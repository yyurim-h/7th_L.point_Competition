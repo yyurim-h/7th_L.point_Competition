{
 "cells": [
  {
   "cell_type": "code",
   "execution_count": 1,
   "id": "1fd4d0ba",
   "metadata": {},
   "outputs": [],
   "source": [
    "import pandas as pd\n",
    "\n",
    "# data read\n",
    "df1 = pd.read_csv('/Users/yul/Desktop/LP Player/3. LP Player_데이터 및 모델 세이브 파일/LPOINT_BIG_COMP_01_DEMO.csv')\n",
    "df2 = pd.read_csv('/Users/yul/Desktop/LP Player/3. LP Player_데이터 및 모델 세이브 파일/LPOINT_BIG_COMP_03_COP_U.csv')"
   ]
  },
  {
   "cell_type": "code",
   "execution_count": 2,
   "id": "176d08f3",
   "metadata": {},
   "outputs": [],
   "source": [
    "df1 = pd.DataFrame(df1)\n",
    "df2 = pd.DataFrame(df2)"
   ]
  },
  {
   "cell_type": "code",
   "execution_count": 3,
   "id": "d704b47c",
   "metadata": {},
   "outputs": [],
   "source": [
    "# 데이터 병합\n",
    "df = df1.merge(df2, on='cust', how='inner')"
   ]
  },
  {
   "cell_type": "code",
   "execution_count": 4,
   "id": "3dabdbb0",
   "metadata": {},
   "outputs": [],
   "source": [
    "# 데이터 형식 변환\n",
    "df['de_dt'] = df['de_dt'].astype('str')\n",
    "df['vst_dt'] = df['vst_dt'].astype('str')\n",
    "df['de_dt'] = pd.to_datetime(df['de_dt'])\n",
    "df['vst_dt'] = pd.to_datetime(df['vst_dt'])"
   ]
  },
  {
   "cell_type": "code",
   "execution_count": 5,
   "id": "9c5b8402",
   "metadata": {},
   "outputs": [],
   "source": [
    "# 월, 요일 칼럼 추가\n",
    "df['de_dt_month'] = df['de_dt'].dt.month\n",
    "df['de_day'] = df['de_dt'].dt.dayofweek"
   ]
  },
  {
   "cell_type": "code",
   "execution_count": 6,
   "id": "24ec73b0",
   "metadata": {},
   "outputs": [
    {
     "name": "stdout",
     "output_type": "stream",
     "text": [
      "<class 'pandas.core.frame.DataFrame'>\n",
      "Int64Index: 248304 entries, 0 to 248303\n",
      "Data columns (total 14 columns):\n",
      " #   Column       Non-Null Count   Dtype         \n",
      "---  ------       --------------   -----         \n",
      " 0   cust         248304 non-null  object        \n",
      " 1   ma_fem_dv    248304 non-null  object        \n",
      " 2   ages         248304 non-null  object        \n",
      " 3   zon_hlv      248304 non-null  object        \n",
      " 4   rct_no       248304 non-null  object        \n",
      " 5   cop_c        248304 non-null  object        \n",
      " 6   br_c         248249 non-null  object        \n",
      " 7   chnl_dv      248304 non-null  int64         \n",
      " 8   de_dt        248304 non-null  datetime64[ns]\n",
      " 9   vst_dt       248304 non-null  datetime64[ns]\n",
      " 10  de_hr        248304 non-null  int64         \n",
      " 11  buy_am       248304 non-null  int64         \n",
      " 12  de_dt_month  248304 non-null  int64         \n",
      " 13  de_day       248304 non-null  int64         \n",
      "dtypes: datetime64[ns](2), int64(5), object(7)\n",
      "memory usage: 28.4+ MB\n"
     ]
    }
   ],
   "source": [
    "df.info()"
   ]
  },
  {
   "cell_type": "code",
   "execution_count": 7,
   "id": "4233bf11",
   "metadata": {},
   "outputs": [],
   "source": [
    "# 2020년 데이터 삭제\n",
    "index1 = df[df['de_dt'].dt.year==2020].index\n",
    "df = df.drop(index1)"
   ]
  },
  {
   "cell_type": "code",
   "execution_count": 8,
   "id": "badc6874",
   "metadata": {},
   "outputs": [
    {
     "data": {
      "text/plain": [
       "cust            21769\n",
       "ma_fem_dv           2\n",
       "ages                6\n",
       "zon_hlv            17\n",
       "rct_no         248247\n",
       "cop_c               6\n",
       "br_c             2029\n",
       "chnl_dv             2\n",
       "de_dt             365\n",
       "vst_dt            365\n",
       "de_hr              24\n",
       "buy_am           9420\n",
       "de_dt_month        12\n",
       "de_day              7\n",
       "dtype: int64"
      ]
     },
     "execution_count": 8,
     "metadata": {},
     "output_type": "execute_result"
    }
   ],
   "source": [
    "df.nunique()"
   ]
  },
  {
   "cell_type": "code",
   "execution_count": 9,
   "id": "60330574",
   "metadata": {},
   "outputs": [
    {
     "data": {
      "text/plain": [
       "cust            0\n",
       "ma_fem_dv       0\n",
       "ages            0\n",
       "zon_hlv         0\n",
       "rct_no          0\n",
       "cop_c           0\n",
       "br_c           55\n",
       "chnl_dv         0\n",
       "de_dt           0\n",
       "vst_dt          0\n",
       "de_hr           0\n",
       "buy_am          0\n",
       "de_dt_month     0\n",
       "de_day          0\n",
       "dtype: int64"
      ]
     },
     "execution_count": 9,
     "metadata": {},
     "output_type": "execute_result"
    }
   ],
   "source": [
    "df.isnull().sum()  # 결측치 확인"
   ]
  },
  {
   "cell_type": "code",
   "execution_count": 10,
   "id": "f0940169",
   "metadata": {},
   "outputs": [],
   "source": [
    "df = df.fillna(0)  # 결측치를 0으로 채움"
   ]
  },
  {
   "cell_type": "code",
   "execution_count": 11,
   "id": "edde24b7",
   "metadata": {},
   "outputs": [],
   "source": [
    "# 데이터 저장\n",
    "df.to_csv(\"/Users/yul/Desktop/LP Player/3. LP Player_데이터 및 모델 세이브 파일/03_COP_U_전처리.csv\", index = False)"
   ]
  },
  {
   "cell_type": "code",
   "execution_count": null,
   "id": "6ac9c019",
   "metadata": {},
   "outputs": [],
   "source": []
  }
 ],
 "metadata": {
  "kernelspec": {
   "display_name": "Python 3 (ipykernel)",
   "language": "python",
   "name": "python3"
  },
  "language_info": {
   "codemirror_mode": {
    "name": "ipython",
    "version": 3
   },
   "file_extension": ".py",
   "mimetype": "text/x-python",
   "name": "python",
   "nbconvert_exporter": "python",
   "pygments_lexer": "ipython3",
   "version": "3.9.12"
  },
  "toc": {
   "base_numbering": 1,
   "nav_menu": {},
   "number_sections": true,
   "sideBar": true,
   "skip_h1_title": false,
   "title_cell": "Table of Contents",
   "title_sidebar": "Contents",
   "toc_cell": false,
   "toc_position": {},
   "toc_section_display": true,
   "toc_window_display": false
  },
  "varInspector": {
   "cols": {
    "lenName": 16,
    "lenType": 16,
    "lenVar": 40
   },
   "kernels_config": {
    "python": {
     "delete_cmd_postfix": "",
     "delete_cmd_prefix": "del ",
     "library": "var_list.py",
     "varRefreshCmd": "print(var_dic_list())"
    },
    "r": {
     "delete_cmd_postfix": ") ",
     "delete_cmd_prefix": "rm(",
     "library": "var_list.r",
     "varRefreshCmd": "cat(var_dic_list()) "
    }
   },
   "types_to_exclude": [
    "module",
    "function",
    "builtin_function_or_method",
    "instance",
    "_Feature"
   ],
   "window_display": false
  }
 },
 "nbformat": 4,
 "nbformat_minor": 5
}
