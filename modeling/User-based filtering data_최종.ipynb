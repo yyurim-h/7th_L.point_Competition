{
 "cells": [
  {
   "cell_type": "markdown",
   "id": "2aced2a3",
   "metadata": {},
   "source": [
    "# 데이터 불러오기"
   ]
  },
  {
   "cell_type": "code",
   "execution_count": 1,
   "id": "b4733cf9",
   "metadata": {},
   "outputs": [],
   "source": [
    "import numpy as np \n",
    "import pandas as pd \n",
    "\n",
    "df1 = pd.read_csv(\"/Users/yul/Desktop/LP Player/3. LP Player_데이터 및 모델 세이브 파일/data_F_3040.csv\")\n",
    "df2 = pd.read_csv('/Users/yul/Desktop/LP Player/3. LP Player_데이터 및 모델 세이브 파일/뉴스심리지수(실험적 통계)_일별자료.csv' , encoding = 'cp949')\n",
    "df3 = pd.read_csv('/Users/yul/Desktop/LP Player/3. LP Player_데이터 및 모델 세이브 파일/datatrend.csv' ,encoding = 'cp949')\n",
    "np.random.seed(19670324)  # seed 값 지정"
   ]
  },
  {
   "cell_type": "code",
   "execution_count": 2,
   "id": "7032271d",
   "metadata": {},
   "outputs": [],
   "source": [
    "# 열 이름 바꾸기\n",
    "df2.rename(columns = {'날짜':'de_dt'},inplace=True)\n",
    "df3.rename(columns = {'일':'de_dt'},inplace=True)"
   ]
  },
  {
   "cell_type": "markdown",
   "id": "d810a7c8",
   "metadata": {},
   "source": [
    "# 데이터 병합"
   ]
  },
  {
   "cell_type": "code",
   "execution_count": 3,
   "id": "8e167d05",
   "metadata": {},
   "outputs": [],
   "source": [
    "df = df1.merge(df2 , on = 'de_dt', how = 'inner')\n",
    "df = df.merge(df3 , on = 'de_dt', how = 'inner')"
   ]
  },
  {
   "cell_type": "code",
   "execution_count": 4,
   "id": "cc4bb7d9",
   "metadata": {},
   "outputs": [
    {
     "name": "stdout",
     "output_type": "stream",
     "text": [
      "<class 'pandas.core.frame.DataFrame'>\n",
      "Int64Index: 1036659 entries, 0 to 1036658\n",
      "Data columns (total 22 columns):\n",
      " #   Column        Non-Null Count    Dtype  \n",
      "---  ------        --------------    -----  \n",
      " 0   cust          1036659 non-null  object \n",
      " 1   ma_fem_dv     1036659 non-null  object \n",
      " 2   ages          1036659 non-null  object \n",
      " 3   zon_hlv       1036659 non-null  object \n",
      " 4   rct_no        1036659 non-null  object \n",
      " 5   chnl_dv       1036659 non-null  int64  \n",
      " 6   cop_c         1036659 non-null  object \n",
      " 7   br_c          1036659 non-null  object \n",
      " 8   pd_c          1036659 non-null  object \n",
      " 9   de_dt         1036659 non-null  object \n",
      " 10  de_hr         1036659 non-null  int64  \n",
      " 11  buy_am        1036659 non-null  int64  \n",
      " 12  buy_ct        1036659 non-null  int64  \n",
      " 13  de_dt_month   1036659 non-null  int64  \n",
      " 14  de_day        1036659 non-null  int64  \n",
      " 15  pd_nm         1036659 non-null  object \n",
      " 16  clac_hlv_nm   1036659 non-null  object \n",
      " 17  clac_mcls_nm  1036659 non-null  object \n",
      " 18  뉴스심리지수        1036659 non-null  float64\n",
      " 19  서울            1036659 non-null  int64  \n",
      " 20  경기            1036659 non-null  int64  \n",
      " 21  총합            1036659 non-null  int64  \n",
      "dtypes: float64(1), int64(9), object(12)\n",
      "memory usage: 181.9+ MB\n"
     ]
    }
   ],
   "source": [
    "df.info() # info를 통해 병합 과정 중 누락된 데이터가 있는지 확인"
   ]
  },
  {
   "cell_type": "markdown",
   "id": "f2f28685",
   "metadata": {},
   "source": [
    "# 상관분석을 통해서 외부 변수 활용 방안 모색"
   ]
  },
  {
   "cell_type": "code",
   "execution_count": 5,
   "id": "7f39c770",
   "metadata": {
    "scrolled": true
   },
   "outputs": [
    {
     "data": {
      "text/html": [
       "<div>\n",
       "<style scoped>\n",
       "    .dataframe tbody tr th:only-of-type {\n",
       "        vertical-align: middle;\n",
       "    }\n",
       "\n",
       "    .dataframe tbody tr th {\n",
       "        vertical-align: top;\n",
       "    }\n",
       "\n",
       "    .dataframe thead th {\n",
       "        text-align: right;\n",
       "    }\n",
       "</style>\n",
       "<table border=\"1\" class=\"dataframe\">\n",
       "  <thead>\n",
       "    <tr style=\"text-align: right;\">\n",
       "      <th></th>\n",
       "      <th>chnl_dv</th>\n",
       "      <th>de_hr</th>\n",
       "      <th>buy_am</th>\n",
       "      <th>buy_ct</th>\n",
       "      <th>de_dt_month</th>\n",
       "      <th>de_day</th>\n",
       "      <th>뉴스심리지수</th>\n",
       "      <th>서울</th>\n",
       "      <th>경기</th>\n",
       "      <th>총합</th>\n",
       "    </tr>\n",
       "  </thead>\n",
       "  <tbody>\n",
       "    <tr>\n",
       "      <th>chnl_dv</th>\n",
       "      <td>1.000000</td>\n",
       "      <td>-0.205176</td>\n",
       "      <td>-0.018465</td>\n",
       "      <td>0.003537</td>\n",
       "      <td>-0.237814</td>\n",
       "      <td>-0.058388</td>\n",
       "      <td>0.048241</td>\n",
       "      <td>0.068596</td>\n",
       "      <td>0.052879</td>\n",
       "      <td>0.060970</td>\n",
       "    </tr>\n",
       "    <tr>\n",
       "      <th>de_hr</th>\n",
       "      <td>-0.205176</td>\n",
       "      <td>1.000000</td>\n",
       "      <td>-0.011080</td>\n",
       "      <td>-0.001948</td>\n",
       "      <td>0.033068</td>\n",
       "      <td>0.007750</td>\n",
       "      <td>-0.003534</td>\n",
       "      <td>-0.008796</td>\n",
       "      <td>-0.007722</td>\n",
       "      <td>-0.008308</td>\n",
       "    </tr>\n",
       "    <tr>\n",
       "      <th>buy_am</th>\n",
       "      <td>-0.018465</td>\n",
       "      <td>-0.011080</td>\n",
       "      <td>1.000000</td>\n",
       "      <td>-0.001658</td>\n",
       "      <td>0.011040</td>\n",
       "      <td>0.025456</td>\n",
       "      <td>-0.003217</td>\n",
       "      <td>-0.008305</td>\n",
       "      <td>-0.007734</td>\n",
       "      <td>-0.008074</td>\n",
       "    </tr>\n",
       "    <tr>\n",
       "      <th>buy_ct</th>\n",
       "      <td>0.003537</td>\n",
       "      <td>-0.001948</td>\n",
       "      <td>-0.001658</td>\n",
       "      <td>1.000000</td>\n",
       "      <td>-0.001600</td>\n",
       "      <td>-0.005665</td>\n",
       "      <td>0.001269</td>\n",
       "      <td>0.001777</td>\n",
       "      <td>0.002123</td>\n",
       "      <td>0.001971</td>\n",
       "    </tr>\n",
       "    <tr>\n",
       "      <th>de_dt_month</th>\n",
       "      <td>-0.237814</td>\n",
       "      <td>0.033068</td>\n",
       "      <td>0.011040</td>\n",
       "      <td>-0.001600</td>\n",
       "      <td>1.000000</td>\n",
       "      <td>0.003612</td>\n",
       "      <td>-0.203273</td>\n",
       "      <td>-0.138947</td>\n",
       "      <td>-0.072182</td>\n",
       "      <td>-0.105333</td>\n",
       "    </tr>\n",
       "    <tr>\n",
       "      <th>de_day</th>\n",
       "      <td>-0.058388</td>\n",
       "      <td>0.007750</td>\n",
       "      <td>0.025456</td>\n",
       "      <td>-0.005665</td>\n",
       "      <td>0.003612</td>\n",
       "      <td>1.000000</td>\n",
       "      <td>0.004559</td>\n",
       "      <td>-0.254400</td>\n",
       "      <td>-0.239658</td>\n",
       "      <td>-0.248768</td>\n",
       "    </tr>\n",
       "    <tr>\n",
       "      <th>뉴스심리지수</th>\n",
       "      <td>0.048241</td>\n",
       "      <td>-0.003534</td>\n",
       "      <td>-0.003217</td>\n",
       "      <td>0.001269</td>\n",
       "      <td>-0.203273</td>\n",
       "      <td>0.004559</td>\n",
       "      <td>1.000000</td>\n",
       "      <td>0.078022</td>\n",
       "      <td>0.042752</td>\n",
       "      <td>0.060301</td>\n",
       "    </tr>\n",
       "    <tr>\n",
       "      <th>서울</th>\n",
       "      <td>0.068596</td>\n",
       "      <td>-0.008796</td>\n",
       "      <td>-0.008305</td>\n",
       "      <td>0.001777</td>\n",
       "      <td>-0.138947</td>\n",
       "      <td>-0.254400</td>\n",
       "      <td>0.078022</td>\n",
       "      <td>1.000000</td>\n",
       "      <td>0.968347</td>\n",
       "      <td>0.991537</td>\n",
       "    </tr>\n",
       "    <tr>\n",
       "      <th>경기</th>\n",
       "      <td>0.052879</td>\n",
       "      <td>-0.007722</td>\n",
       "      <td>-0.007734</td>\n",
       "      <td>0.002123</td>\n",
       "      <td>-0.072182</td>\n",
       "      <td>-0.239658</td>\n",
       "      <td>0.042752</td>\n",
       "      <td>0.968347</td>\n",
       "      <td>1.000000</td>\n",
       "      <td>0.992557</td>\n",
       "    </tr>\n",
       "    <tr>\n",
       "      <th>총합</th>\n",
       "      <td>0.060970</td>\n",
       "      <td>-0.008308</td>\n",
       "      <td>-0.008074</td>\n",
       "      <td>0.001971</td>\n",
       "      <td>-0.105333</td>\n",
       "      <td>-0.248768</td>\n",
       "      <td>0.060301</td>\n",
       "      <td>0.991537</td>\n",
       "      <td>0.992557</td>\n",
       "      <td>1.000000</td>\n",
       "    </tr>\n",
       "  </tbody>\n",
       "</table>\n",
       "</div>"
      ],
      "text/plain": [
       "              chnl_dv     de_hr    buy_am    buy_ct  de_dt_month    de_day  \\\n",
       "chnl_dv      1.000000 -0.205176 -0.018465  0.003537    -0.237814 -0.058388   \n",
       "de_hr       -0.205176  1.000000 -0.011080 -0.001948     0.033068  0.007750   \n",
       "buy_am      -0.018465 -0.011080  1.000000 -0.001658     0.011040  0.025456   \n",
       "buy_ct       0.003537 -0.001948 -0.001658  1.000000    -0.001600 -0.005665   \n",
       "de_dt_month -0.237814  0.033068  0.011040 -0.001600     1.000000  0.003612   \n",
       "de_day      -0.058388  0.007750  0.025456 -0.005665     0.003612  1.000000   \n",
       "뉴스심리지수       0.048241 -0.003534 -0.003217  0.001269    -0.203273  0.004559   \n",
       "서울           0.068596 -0.008796 -0.008305  0.001777    -0.138947 -0.254400   \n",
       "경기           0.052879 -0.007722 -0.007734  0.002123    -0.072182 -0.239658   \n",
       "총합           0.060970 -0.008308 -0.008074  0.001971    -0.105333 -0.248768   \n",
       "\n",
       "               뉴스심리지수        서울        경기        총합  \n",
       "chnl_dv      0.048241  0.068596  0.052879  0.060970  \n",
       "de_hr       -0.003534 -0.008796 -0.007722 -0.008308  \n",
       "buy_am      -0.003217 -0.008305 -0.007734 -0.008074  \n",
       "buy_ct       0.001269  0.001777  0.002123  0.001971  \n",
       "de_dt_month -0.203273 -0.138947 -0.072182 -0.105333  \n",
       "de_day       0.004559 -0.254400 -0.239658 -0.248768  \n",
       "뉴스심리지수       1.000000  0.078022  0.042752  0.060301  \n",
       "서울           0.078022  1.000000  0.968347  0.991537  \n",
       "경기           0.042752  0.968347  1.000000  0.992557  \n",
       "총합           0.060301  0.991537  0.992557  1.000000  "
      ]
     },
     "execution_count": 5,
     "metadata": {},
     "output_type": "execute_result"
    }
   ],
   "source": [
    "df.corr()"
   ]
  },
  {
   "cell_type": "code",
   "execution_count": 6,
   "id": "a424e603",
   "metadata": {},
   "outputs": [],
   "source": [
    "# 필요한 열만 추출\n",
    "df = df[['cust', 'pd_nm', 'buy_ct', 'buy_am','de_dt_month','de_day','총합','뉴스심리지수']]"
   ]
  },
  {
   "cell_type": "code",
   "execution_count": 7,
   "id": "4418c9bb",
   "metadata": {},
   "outputs": [],
   "source": [
    "import matplotlib.pyplot as plt\n",
    "import seaborn as sns\n",
    "from matplotlib import rc\n",
    "\n",
    "rc('font', family='AppleGothic')\n",
    "plt.rcParams['axes.unicode_minus'] = False"
   ]
  },
  {
   "cell_type": "code",
   "execution_count": 8,
   "id": "2b6e9974",
   "metadata": {},
   "outputs": [
    {
     "data": {
      "text/plain": [
       "<AxesSubplot:>"
      ]
     },
     "execution_count": 8,
     "metadata": {},
     "output_type": "execute_result"
    },
    {
     "data": {
      "image/png": "[encoded data removed]",
      "text/plain": [
       "<Figure size 432x288 with 2 Axes>"
      ]
     },
     "metadata": {
      "needs_background": "light"
     },
     "output_type": "display_data"
    }
   ],
   "source": [
    "# 상관분석 히트맵\n",
    "corr=df.corr()\n",
    "sns.heatmap(corr, annot=True)"
   ]
  },
  {
   "cell_type": "code",
   "execution_count": 9,
   "id": "c4beef1e",
   "metadata": {},
   "outputs": [
    {
     "data": {
      "image/png": "[encoded data removed]",
      "text/plain": [
       "<Figure size 432x288 with 1 Axes>"
      ]
     },
     "metadata": {
      "needs_background": "light"
     },
     "output_type": "display_data"
    }
   ],
   "source": [
    "fig, ax = plt.subplots()\n",
    "ax.boxplot([df['buy_ct'], df['buy_am'], df['de_dt_month'], df['de_day'], df['총합'], df['뉴스심리지수']])\n",
    "plt.title('Multiple box plots of tips on one Axes')\n",
    "plt.xticks([1, 2, 3, 4, 5, 6],\n",
    "           ['buy_ct', 'buy_am', 'de_dt_month', 'de_day', '총합', '뉴스심리지수'])\n",
    "plt.show()"
   ]
  },
  {
   "cell_type": "markdown",
   "id": "3877eb03",
   "metadata": {},
   "source": [
    "# 데이터 전처리 (로그화, 정규화)"
   ]
  },
  {
   "cell_type": "code",
   "execution_count": 10,
   "id": "b3ca96b8",
   "metadata": {},
   "outputs": [],
   "source": [
    "# buy_am 값은 이상치가 너무 크고 최솟값과 최댓값 차이도 너무 크기 때문에 로그화를 하고 정규화 진행\n",
    "df['buy_am'] = np.log(df['buy_am'])"
   ]
  },
  {
   "cell_type": "code",
   "execution_count": 11,
   "id": "9776a243",
   "metadata": {},
   "outputs": [],
   "source": [
    "#정규화 함수 및 적용 \n",
    "def min_max_scaler(df):\n",
    "    df_min = df.min()\n",
    "    df_max = df.max()\n",
    "    return (df-df_min)/(df_max-df_min)"
   ]
  },
  {
   "cell_type": "code",
   "execution_count": 12,
   "id": "057fd67a",
   "metadata": {
    "scrolled": true
   },
   "outputs": [
    {
     "data": {
      "text/html": [
       "<div>\n",
       "<style scoped>\n",
       "    .dataframe tbody tr th:only-of-type {\n",
       "        vertical-align: middle;\n",
       "    }\n",
       "\n",
       "    .dataframe tbody tr th {\n",
       "        vertical-align: top;\n",
       "    }\n",
       "\n",
       "    .dataframe thead th {\n",
       "        text-align: right;\n",
       "    }\n",
       "</style>\n",
       "<table border=\"1\" class=\"dataframe\">\n",
       "  <thead>\n",
       "    <tr style=\"text-align: right;\">\n",
       "      <th></th>\n",
       "      <th>cust</th>\n",
       "      <th>pd_nm</th>\n",
       "      <th>buy_ct</th>\n",
       "      <th>buy_am</th>\n",
       "      <th>de_dt_month</th>\n",
       "      <th>de_day</th>\n",
       "      <th>총합</th>\n",
       "      <th>뉴스심리지수</th>\n",
       "    </tr>\n",
       "  </thead>\n",
       "  <tbody>\n",
       "    <tr>\n",
       "      <th>0</th>\n",
       "      <td>M000225114</td>\n",
       "      <td>일반스낵</td>\n",
       "      <td>0.0</td>\n",
       "      <td>0.516377</td>\n",
       "      <td>0.181818</td>\n",
       "      <td>0.166667</td>\n",
       "      <td>0.221591</td>\n",
       "      <td>0.425241</td>\n",
       "    </tr>\n",
       "    <tr>\n",
       "      <th>1</th>\n",
       "      <td>M000225114</td>\n",
       "      <td>일반스낵</td>\n",
       "      <td>0.0</td>\n",
       "      <td>0.540185</td>\n",
       "      <td>0.181818</td>\n",
       "      <td>0.166667</td>\n",
       "      <td>0.221591</td>\n",
       "      <td>0.425241</td>\n",
       "    </tr>\n",
       "    <tr>\n",
       "      <th>2</th>\n",
       "      <td>M000225114</td>\n",
       "      <td>일반스낵</td>\n",
       "      <td>0.0</td>\n",
       "      <td>0.512199</td>\n",
       "      <td>0.181818</td>\n",
       "      <td>0.166667</td>\n",
       "      <td>0.221591</td>\n",
       "      <td>0.425241</td>\n",
       "    </tr>\n",
       "    <tr>\n",
       "      <th>3</th>\n",
       "      <td>M003531710</td>\n",
       "      <td>일반스낵</td>\n",
       "      <td>0.0</td>\n",
       "      <td>0.417380</td>\n",
       "      <td>0.181818</td>\n",
       "      <td>0.166667</td>\n",
       "      <td>0.221591</td>\n",
       "      <td>0.425241</td>\n",
       "    </tr>\n",
       "    <tr>\n",
       "      <th>4</th>\n",
       "      <td>M006627098</td>\n",
       "      <td>일반스낵</td>\n",
       "      <td>0.0</td>\n",
       "      <td>0.417380</td>\n",
       "      <td>0.181818</td>\n",
       "      <td>0.166667</td>\n",
       "      <td>0.221591</td>\n",
       "      <td>0.425241</td>\n",
       "    </tr>\n",
       "  </tbody>\n",
       "</table>\n",
       "</div>"
      ],
      "text/plain": [
       "         cust pd_nm  buy_ct    buy_am  de_dt_month    de_day        총합  \\\n",
       "0  M000225114  일반스낵     0.0  0.516377     0.181818  0.166667  0.221591   \n",
       "1  M000225114  일반스낵     0.0  0.540185     0.181818  0.166667  0.221591   \n",
       "2  M000225114  일반스낵     0.0  0.512199     0.181818  0.166667  0.221591   \n",
       "3  M003531710  일반스낵     0.0  0.417380     0.181818  0.166667  0.221591   \n",
       "4  M006627098  일반스낵     0.0  0.417380     0.181818  0.166667  0.221591   \n",
       "\n",
       "     뉴스심리지수  \n",
       "0  0.425241  \n",
       "1  0.425241  \n",
       "2  0.425241  \n",
       "3  0.425241  \n",
       "4  0.425241  "
      ]
     },
     "execution_count": 12,
     "metadata": {},
     "output_type": "execute_result"
    }
   ],
   "source": [
    "df['buy_am'] = min_max_scaler(df['buy_am'])\n",
    "df['buy_ct'] = min_max_scaler(df['buy_ct'])\n",
    "df['de_dt_month'] = min_max_scaler(df['de_dt_month'])\n",
    "df['de_day'] = min_max_scaler(df['de_day'])\n",
    "df['총합'] = min_max_scaler(df['총합'])\n",
    "df['뉴스심리지수'] = min_max_scaler(df['뉴스심리지수'])\n",
    "df.head()"
   ]
  },
  {
   "cell_type": "code",
   "execution_count": 13,
   "id": "ee1beb1a",
   "metadata": {},
   "outputs": [
    {
     "data": {
      "image/png": "[encoded data removed]",
      "text/plain": [
       "<Figure size 432x288 with 1 Axes>"
      ]
     },
     "metadata": {
      "needs_background": "light"
     },
     "output_type": "display_data"
    }
   ],
   "source": [
    "fig, ax = plt.subplots()\n",
    "ax.boxplot([df['buy_ct'], df['buy_am'], df['de_dt_month'], df['de_day'], df['총합'], df['뉴스심리지수']])\n",
    "plt.title('Multiple box plots of tips on one Axes')\n",
    "plt.xticks([1, 2, 3, 4, 5, 6],\n",
    "           ['buy_ct', 'buy_am', 'de_dt_month', 'de_day', '총합', '뉴스심리지수'])\n",
    "plt.show()"
   ]
  },
  {
   "cell_type": "markdown",
   "id": "bb74d52d",
   "metadata": {},
   "source": [
    "# 파생변수 만들기"
   ]
  },
  {
   "cell_type": "code",
   "execution_count": 14,
   "id": "300affee",
   "metadata": {},
   "outputs": [
    {
     "data": {
      "text/html": [
       "<div>\n",
       "<style scoped>\n",
       "    .dataframe tbody tr th:only-of-type {\n",
       "        vertical-align: middle;\n",
       "    }\n",
       "\n",
       "    .dataframe tbody tr th {\n",
       "        vertical-align: top;\n",
       "    }\n",
       "\n",
       "    .dataframe thead th {\n",
       "        text-align: right;\n",
       "    }\n",
       "</style>\n",
       "<table border=\"1\" class=\"dataframe\">\n",
       "  <thead>\n",
       "    <tr style=\"text-align: right;\">\n",
       "      <th></th>\n",
       "      <th>cust</th>\n",
       "      <th>pd_nm</th>\n",
       "      <th>buy_ct</th>\n",
       "      <th>buy_am</th>\n",
       "      <th>de_dt_month</th>\n",
       "      <th>de_day</th>\n",
       "      <th>총합</th>\n",
       "      <th>뉴스심리지수</th>\n",
       "      <th>values</th>\n",
       "    </tr>\n",
       "  </thead>\n",
       "  <tbody>\n",
       "    <tr>\n",
       "      <th>0</th>\n",
       "      <td>M000225114</td>\n",
       "      <td>일반스낵</td>\n",
       "      <td>0.0</td>\n",
       "      <td>0.516377</td>\n",
       "      <td>0.181818</td>\n",
       "      <td>0.166667</td>\n",
       "      <td>0.221591</td>\n",
       "      <td>0.425241</td>\n",
       "      <td>0.251112</td>\n",
       "    </tr>\n",
       "    <tr>\n",
       "      <th>1</th>\n",
       "      <td>M000225114</td>\n",
       "      <td>일반스낵</td>\n",
       "      <td>0.0</td>\n",
       "      <td>0.540185</td>\n",
       "      <td>0.181818</td>\n",
       "      <td>0.166667</td>\n",
       "      <td>0.221591</td>\n",
       "      <td>0.425241</td>\n",
       "      <td>0.258547</td>\n",
       "    </tr>\n",
       "    <tr>\n",
       "      <th>2</th>\n",
       "      <td>M000225114</td>\n",
       "      <td>일반스낵</td>\n",
       "      <td>0.0</td>\n",
       "      <td>0.512199</td>\n",
       "      <td>0.181818</td>\n",
       "      <td>0.166667</td>\n",
       "      <td>0.221591</td>\n",
       "      <td>0.425241</td>\n",
       "      <td>0.249808</td>\n",
       "    </tr>\n",
       "    <tr>\n",
       "      <th>3</th>\n",
       "      <td>M003531710</td>\n",
       "      <td>일반스낵</td>\n",
       "      <td>0.0</td>\n",
       "      <td>0.417380</td>\n",
       "      <td>0.181818</td>\n",
       "      <td>0.166667</td>\n",
       "      <td>0.221591</td>\n",
       "      <td>0.425241</td>\n",
       "      <td>0.220199</td>\n",
       "    </tr>\n",
       "    <tr>\n",
       "      <th>4</th>\n",
       "      <td>M006627098</td>\n",
       "      <td>일반스낵</td>\n",
       "      <td>0.0</td>\n",
       "      <td>0.417380</td>\n",
       "      <td>0.181818</td>\n",
       "      <td>0.166667</td>\n",
       "      <td>0.221591</td>\n",
       "      <td>0.425241</td>\n",
       "      <td>0.220199</td>\n",
       "    </tr>\n",
       "  </tbody>\n",
       "</table>\n",
       "</div>"
      ],
      "text/plain": [
       "         cust pd_nm  buy_ct    buy_am  de_dt_month    de_day        총합  \\\n",
       "0  M000225114  일반스낵     0.0  0.516377     0.181818  0.166667  0.221591   \n",
       "1  M000225114  일반스낵     0.0  0.540185     0.181818  0.166667  0.221591   \n",
       "2  M000225114  일반스낵     0.0  0.512199     0.181818  0.166667  0.221591   \n",
       "3  M003531710  일반스낵     0.0  0.417380     0.181818  0.166667  0.221591   \n",
       "4  M006627098  일반스낵     0.0  0.417380     0.181818  0.166667  0.221591   \n",
       "\n",
       "     뉴스심리지수    values  \n",
       "0  0.425241  0.251112  \n",
       "1  0.425241  0.258547  \n",
       "2  0.425241  0.249808  \n",
       "3  0.425241  0.220199  \n",
       "4  0.425241  0.220199  "
      ]
     },
     "execution_count": 14,
     "metadata": {},
     "output_type": "execute_result"
    }
   ],
   "source": [
    "df['values'] = df['buy_ct'] + df['buy_am'] + df['de_dt_month'] + df['de_day'] + df['총합'] + df['뉴스심리지수']\n",
    "df['values'] = min_max_scaler(df['values'])\n",
    "df.head()"
   ]
  },
  {
   "cell_type": "code",
   "execution_count": 15,
   "id": "15e22ea0",
   "metadata": {},
   "outputs": [
    {
     "data": {
      "text/plain": [
       "<AxesSubplot:ylabel='Frequency'>"
      ]
     },
     "execution_count": 15,
     "metadata": {},
     "output_type": "execute_result"
    },
    {
     "data": {
      "image/png": "[encoded data removed]",
      "text/plain": [
       "<Figure size 432x288 with 1 Axes>"
      ]
     },
     "metadata": {
      "needs_background": "light"
     },
     "output_type": "display_data"
    }
   ],
   "source": [
    "(df['values']).plot.hist(bins=20) # 그림을 그려서 정규화가 잘 되었는지 확인"
   ]
  },
  {
   "cell_type": "markdown",
   "id": "49ebd107",
   "metadata": {},
   "source": [
    "# 고객, 상품별로 데이터 묶기"
   ]
  },
  {
   "cell_type": "code",
   "execution_count": 16,
   "id": "5e2769d6",
   "metadata": {},
   "outputs": [
    {
     "data": {
      "text/html": [
       "<div>\n",
       "<style scoped>\n",
       "    .dataframe tbody tr th:only-of-type {\n",
       "        vertical-align: middle;\n",
       "    }\n",
       "\n",
       "    .dataframe tbody tr th {\n",
       "        vertical-align: top;\n",
       "    }\n",
       "\n",
       "    .dataframe thead th {\n",
       "        text-align: right;\n",
       "    }\n",
       "</style>\n",
       "<table border=\"1\" class=\"dataframe\">\n",
       "  <thead>\n",
       "    <tr style=\"text-align: right;\">\n",
       "      <th></th>\n",
       "      <th>cust</th>\n",
       "      <th>pd_nm</th>\n",
       "      <th>buy_ct</th>\n",
       "      <th>buy_am</th>\n",
       "      <th>de_dt_month</th>\n",
       "      <th>de_day</th>\n",
       "      <th>총합</th>\n",
       "      <th>뉴스심리지수</th>\n",
       "      <th>values</th>\n",
       "    </tr>\n",
       "  </thead>\n",
       "  <tbody>\n",
       "    <tr>\n",
       "      <th>0</th>\n",
       "      <td>M000225114</td>\n",
       "      <td>가공계란</td>\n",
       "      <td>0.000000</td>\n",
       "      <td>0.506106</td>\n",
       "      <td>0.272727</td>\n",
       "      <td>0.166667</td>\n",
       "      <td>0.221591</td>\n",
       "      <td>0.730805</td>\n",
       "      <td>0.371708</td>\n",
       "    </tr>\n",
       "    <tr>\n",
       "      <th>1</th>\n",
       "      <td>M000225114</td>\n",
       "      <td>가공우유</td>\n",
       "      <td>0.011236</td>\n",
       "      <td>0.394239</td>\n",
       "      <td>0.181818</td>\n",
       "      <td>0.166667</td>\n",
       "      <td>0.176136</td>\n",
       "      <td>0.457880</td>\n",
       "      <td>0.212480</td>\n",
       "    </tr>\n",
       "    <tr>\n",
       "      <th>2</th>\n",
       "      <td>M000225114</td>\n",
       "      <td>과일음료</td>\n",
       "      <td>0.022472</td>\n",
       "      <td>0.820168</td>\n",
       "      <td>1.636364</td>\n",
       "      <td>1.000000</td>\n",
       "      <td>0.375000</td>\n",
       "      <td>0.905191</td>\n",
       "      <td>1.044250</td>\n",
       "    </tr>\n",
       "    <tr>\n",
       "      <th>3</th>\n",
       "      <td>M000225114</td>\n",
       "      <td>과일잼</td>\n",
       "      <td>0.000000</td>\n",
       "      <td>0.899535</td>\n",
       "      <td>0.545455</td>\n",
       "      <td>0.333333</td>\n",
       "      <td>0.443182</td>\n",
       "      <td>1.461610</td>\n",
       "      <td>0.708232</td>\n",
       "    </tr>\n",
       "    <tr>\n",
       "      <th>4</th>\n",
       "      <td>M000225114</td>\n",
       "      <td>과채혼합음료</td>\n",
       "      <td>0.000000</td>\n",
       "      <td>0.394239</td>\n",
       "      <td>0.272727</td>\n",
       "      <td>0.166667</td>\n",
       "      <td>0.153409</td>\n",
       "      <td>0.603979</td>\n",
       "      <td>0.275883</td>\n",
       "    </tr>\n",
       "  </tbody>\n",
       "</table>\n",
       "</div>"
      ],
      "text/plain": [
       "         cust   pd_nm    buy_ct    buy_am  de_dt_month    de_day        총합  \\\n",
       "0  M000225114    가공계란  0.000000  0.506106     0.272727  0.166667  0.221591   \n",
       "1  M000225114    가공우유  0.011236  0.394239     0.181818  0.166667  0.176136   \n",
       "2  M000225114    과일음료  0.022472  0.820168     1.636364  1.000000  0.375000   \n",
       "3  M000225114     과일잼  0.000000  0.899535     0.545455  0.333333  0.443182   \n",
       "4  M000225114  과채혼합음료  0.000000  0.394239     0.272727  0.166667  0.153409   \n",
       "\n",
       "     뉴스심리지수    values  \n",
       "0  0.730805  0.371708  \n",
       "1  0.457880  0.212480  \n",
       "2  0.905191  1.044250  \n",
       "3  1.461610  0.708232  \n",
       "4  0.603979  0.275883  "
      ]
     },
     "execution_count": 16,
     "metadata": {},
     "output_type": "execute_result"
    }
   ],
   "source": [
    "df_groupby = df.groupby(['cust','pd_nm'], as_index=False)\n",
    "df_groupby = df_groupby.sum()\n",
    "df_groupby.head()"
   ]
  },
  {
   "cell_type": "code",
   "execution_count": 17,
   "id": "a0b4d3b6",
   "metadata": {},
   "outputs": [
    {
     "name": "stdout",
     "output_type": "stream",
     "text": [
      "shape: (391480, 9)\n",
      "중복 데이터: 0\n"
     ]
    }
   ],
   "source": [
    "print(\"shape:\",df_groupby.shape)\n",
    "print(\"중복 데이터:\", df_groupby.duplicated().sum())"
   ]
  },
  {
   "cell_type": "code",
   "execution_count": 18,
   "id": "4543505d",
   "metadata": {},
   "outputs": [
    {
     "name": "stdout",
     "output_type": "stream",
     "text": [
      "<class 'pandas.core.frame.DataFrame'>\n",
      "RangeIndex: 391480 entries, 0 to 391479\n",
      "Data columns (total 9 columns):\n",
      " #   Column       Non-Null Count   Dtype  \n",
      "---  ------       --------------   -----  \n",
      " 0   cust         391480 non-null  object \n",
      " 1   pd_nm        391480 non-null  object \n",
      " 2   buy_ct       391480 non-null  float64\n",
      " 3   buy_am       391480 non-null  float64\n",
      " 4   de_dt_month  391480 non-null  float64\n",
      " 5   de_day       391480 non-null  float64\n",
      " 6   총합           391480 non-null  float64\n",
      " 7   뉴스심리지수       391480 non-null  float64\n",
      " 8   values       391480 non-null  float64\n",
      "dtypes: float64(7), object(2)\n",
      "memory usage: 26.9+ MB\n"
     ]
    }
   ],
   "source": [
    "df_groupby.info()"
   ]
  },
  {
   "cell_type": "code",
   "execution_count": 19,
   "id": "f4aeb555",
   "metadata": {},
   "outputs": [
    {
     "data": {
      "text/plain": [
       "cust           0\n",
       "pd_nm          0\n",
       "buy_ct         0\n",
       "buy_am         0\n",
       "de_dt_month    0\n",
       "de_day         0\n",
       "총합             0\n",
       "뉴스심리지수         0\n",
       "values         0\n",
       "dtype: int64"
      ]
     },
     "execution_count": 19,
     "metadata": {},
     "output_type": "execute_result"
    }
   ],
   "source": [
    "df_groupby.isnull().sum() # 결측치 확인"
   ]
  },
  {
   "cell_type": "markdown",
   "id": "3fe6134e",
   "metadata": {},
   "source": [
    "# 데이터 저장"
   ]
  },
  {
   "cell_type": "code",
   "execution_count": 20,
   "id": "265fd22a",
   "metadata": {},
   "outputs": [],
   "source": [
    "# 데이터를 빠르게 로드할 수 있게 피클로 저장\n",
    "df_groupby.to_pickle('/Users/yul/Desktop/LP Player/3. LP Player_데이터 및 모델 세이브 파일/User-based_filtering_data_pickle_최종')"
   ]
  },
  {
   "cell_type": "code",
   "execution_count": null,
   "id": "69a0c4ad",
   "metadata": {},
   "outputs": [],
   "source": []
  }
 ],
 "metadata": {
  "kernelspec": {
   "display_name": "Python 3 (ipykernel)",
   "language": "python",
   "name": "python3"
  },
  "language_info": {
   "codemirror_mode": {
    "name": "ipython",
    "version": 3
   },
   "file_extension": ".py",
   "mimetype": "text/x-python",
   "name": "python",
   "nbconvert_exporter": "python",
   "pygments_lexer": "ipython3",
   "version": "3.9.12"
  },
  "toc": {
   "base_numbering": 1,
   "nav_menu": {},
   "number_sections": true,
   "sideBar": true,
   "skip_h1_title": false,
   "title_cell": "Table of Contents",
   "title_sidebar": "Contents",
   "toc_cell": false,
   "toc_position": {
    "height": "calc(100% - 180px)",
    "left": "10px",
    "top": "150px",
    "width": "165px"
   },
   "toc_section_display": true,
   "toc_window_display": true
  },
  "varInspector": {
   "cols": {
    "lenName": 16,
    "lenType": 16,
    "lenVar": 40
   },
   "kernels_config": {
    "python": {
     "delete_cmd_postfix": "",
     "delete_cmd_prefix": "del ",
     "library": "var_list.py",
     "varRefreshCmd": "print(var_dic_list())"
    },
    "r": {
     "delete_cmd_postfix": ") ",
     "delete_cmd_prefix": "rm(",
     "library": "var_list.r",
     "varRefreshCmd": "cat(var_dic_list()) "
    }
   },
   "types_to_exclude": [
    "module",
    "function",
    "builtin_function_or_method",
    "instance",
    "_Feature"
   ],
   "window_display": false
  }
 },
 "nbformat": 4,
 "nbformat_minor": 5
}
