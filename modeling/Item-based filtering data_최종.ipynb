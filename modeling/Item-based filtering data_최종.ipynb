{
 "cells": [
  {
   "cell_type": "markdown",
   "id": "b480d857",
   "metadata": {},
   "source": [
    "# 데이터 불러오기"
   ]
  },
  {
   "cell_type": "code",
   "execution_count": 1,
   "id": "2b11968a",
   "metadata": {},
   "outputs": [
    {
     "name": "stderr",
     "output_type": "stream",
     "text": [
      "/var/folders/6z/_hbzx8ln77jg3b982qzcp4xh0000gn/T/ipykernel_32056/3294059208.py:4: DtypeWarning: Columns (4) have mixed types. Specify dtype option on import or set low_memory=False.\n",
      "  data1 = pd.read_csv('/Users/yul/Desktop/LP Player/3. LP Player_데이터 및 모델 세이브 파일/LPOINT_BIG_COMP_02_PDDE.csv')\n"
     ]
    }
   ],
   "source": [
    "import pandas as pd\n",
    "import numpy as np\n",
    "\n",
    "data1 = pd.read_csv('/Users/yul/Desktop/LP Player/3. LP Player_데이터 및 모델 세이브 파일/LPOINT_BIG_COMP_02_PDDE.csv')\n",
    "data2 = pd.read_csv('/Users/yul/Desktop/LP Player/3. LP Player_데이터 및 모델 세이브 파일/LPOINT_BIG_COMP_04_PD_CLAC.csv')\n",
    "np.random.seed(19670324)  # seed 값 지정"
   ]
  },
  {
   "cell_type": "markdown",
   "id": "d3212802",
   "metadata": {},
   "source": [
    "# 데이터 병합"
   ]
  },
  {
   "cell_type": "code",
   "execution_count": 2,
   "id": "91e0d8e2",
   "metadata": {},
   "outputs": [
    {
     "data": {
      "text/html": [
       "<div>\n",
       "<style scoped>\n",
       "    .dataframe tbody tr th:only-of-type {\n",
       "        vertical-align: middle;\n",
       "    }\n",
       "\n",
       "    .dataframe tbody tr th {\n",
       "        vertical-align: top;\n",
       "    }\n",
       "\n",
       "    .dataframe thead th {\n",
       "        text-align: right;\n",
       "    }\n",
       "</style>\n",
       "<table border=\"1\" class=\"dataframe\">\n",
       "  <thead>\n",
       "    <tr style=\"text-align: right;\">\n",
       "      <th></th>\n",
       "      <th>cust</th>\n",
       "      <th>rct_no</th>\n",
       "      <th>chnl_dv</th>\n",
       "      <th>cop_c</th>\n",
       "      <th>br_c</th>\n",
       "      <th>pd_c</th>\n",
       "      <th>de_dt</th>\n",
       "      <th>de_hr</th>\n",
       "      <th>buy_am</th>\n",
       "      <th>buy_ct</th>\n",
       "      <th>pd_nm</th>\n",
       "      <th>clac_hlv_nm</th>\n",
       "      <th>clac_mcls_nm</th>\n",
       "    </tr>\n",
       "  </thead>\n",
       "  <tbody>\n",
       "    <tr>\n",
       "      <th>0</th>\n",
       "      <td>M430112881</td>\n",
       "      <td>A01000001113</td>\n",
       "      <td>1</td>\n",
       "      <td>A01</td>\n",
       "      <td>A010039</td>\n",
       "      <td>PD0290</td>\n",
       "      <td>20210101</td>\n",
       "      <td>10</td>\n",
       "      <td>15000.0</td>\n",
       "      <td>1</td>\n",
       "      <td>남성티셔츠</td>\n",
       "      <td>남성의류</td>\n",
       "      <td>남성의류상의</td>\n",
       "    </tr>\n",
       "    <tr>\n",
       "      <th>1</th>\n",
       "      <td>M430112881</td>\n",
       "      <td>A01000003148</td>\n",
       "      <td>1</td>\n",
       "      <td>A01</td>\n",
       "      <td>A010039</td>\n",
       "      <td>PD0290</td>\n",
       "      <td>20210101</td>\n",
       "      <td>10</td>\n",
       "      <td>19000.0</td>\n",
       "      <td>1</td>\n",
       "      <td>남성티셔츠</td>\n",
       "      <td>남성의류</td>\n",
       "      <td>남성의류상의</td>\n",
       "    </tr>\n",
       "    <tr>\n",
       "      <th>2</th>\n",
       "      <td>M430112881</td>\n",
       "      <td>A01000003148</td>\n",
       "      <td>1</td>\n",
       "      <td>A01</td>\n",
       "      <td>A010039</td>\n",
       "      <td>PD0290</td>\n",
       "      <td>20210101</td>\n",
       "      <td>10</td>\n",
       "      <td>19000.0</td>\n",
       "      <td>1</td>\n",
       "      <td>남성티셔츠</td>\n",
       "      <td>남성의류</td>\n",
       "      <td>남성의류상의</td>\n",
       "    </tr>\n",
       "    <tr>\n",
       "      <th>3</th>\n",
       "      <td>M430112881</td>\n",
       "      <td>A01000004946</td>\n",
       "      <td>1</td>\n",
       "      <td>A01</td>\n",
       "      <td>A010039</td>\n",
       "      <td>PD0290</td>\n",
       "      <td>20210101</td>\n",
       "      <td>10</td>\n",
       "      <td>19000.0</td>\n",
       "      <td>1</td>\n",
       "      <td>남성티셔츠</td>\n",
       "      <td>남성의류</td>\n",
       "      <td>남성의류상의</td>\n",
       "    </tr>\n",
       "    <tr>\n",
       "      <th>4</th>\n",
       "      <td>M506355556</td>\n",
       "      <td>A01000107137</td>\n",
       "      <td>1</td>\n",
       "      <td>A01</td>\n",
       "      <td>A010032</td>\n",
       "      <td>PD0290</td>\n",
       "      <td>20210101</td>\n",
       "      <td>15</td>\n",
       "      <td>199000.0</td>\n",
       "      <td>1</td>\n",
       "      <td>남성티셔츠</td>\n",
       "      <td>남성의류</td>\n",
       "      <td>남성의류상의</td>\n",
       "    </tr>\n",
       "  </tbody>\n",
       "</table>\n",
       "</div>"
      ],
      "text/plain": [
       "         cust        rct_no  chnl_dv cop_c     br_c    pd_c     de_dt  de_hr  \\\n",
       "0  M430112881  A01000001113        1   A01  A010039  PD0290  20210101     10   \n",
       "1  M430112881  A01000003148        1   A01  A010039  PD0290  20210101     10   \n",
       "2  M430112881  A01000003148        1   A01  A010039  PD0290  20210101     10   \n",
       "3  M430112881  A01000004946        1   A01  A010039  PD0290  20210101     10   \n",
       "4  M506355556  A01000107137        1   A01  A010032  PD0290  20210101     15   \n",
       "\n",
       "     buy_am  buy_ct  pd_nm clac_hlv_nm clac_mcls_nm  \n",
       "0   15000.0       1  남성티셔츠        남성의류       남성의류상의  \n",
       "1   19000.0       1  남성티셔츠        남성의류       남성의류상의  \n",
       "2   19000.0       1  남성티셔츠        남성의류       남성의류상의  \n",
       "3   19000.0       1  남성티셔츠        남성의류       남성의류상의  \n",
       "4  199000.0       1  남성티셔츠        남성의류       남성의류상의  "
      ]
     },
     "execution_count": 2,
     "metadata": {},
     "output_type": "execute_result"
    }
   ],
   "source": [
    "data = pd.merge(data1, data2, on='pd_c', how='inner')\n",
    "data.head()"
   ]
  },
  {
   "cell_type": "code",
   "execution_count": 3,
   "id": "4cab9c68",
   "metadata": {},
   "outputs": [
    {
     "data": {
      "text/html": [
       "<div>\n",
       "<style scoped>\n",
       "    .dataframe tbody tr th:only-of-type {\n",
       "        vertical-align: middle;\n",
       "    }\n",
       "\n",
       "    .dataframe tbody tr th {\n",
       "        vertical-align: top;\n",
       "    }\n",
       "\n",
       "    .dataframe thead th {\n",
       "        text-align: right;\n",
       "    }\n",
       "</style>\n",
       "<table border=\"1\" class=\"dataframe\">\n",
       "  <thead>\n",
       "    <tr style=\"text-align: right;\">\n",
       "      <th></th>\n",
       "      <th>cust</th>\n",
       "      <th>pd_nm</th>\n",
       "      <th>buy_ct</th>\n",
       "    </tr>\n",
       "  </thead>\n",
       "  <tbody>\n",
       "    <tr>\n",
       "      <th>0</th>\n",
       "      <td>M430112881</td>\n",
       "      <td>남성티셔츠</td>\n",
       "      <td>1</td>\n",
       "    </tr>\n",
       "    <tr>\n",
       "      <th>1</th>\n",
       "      <td>M430112881</td>\n",
       "      <td>남성티셔츠</td>\n",
       "      <td>1</td>\n",
       "    </tr>\n",
       "    <tr>\n",
       "      <th>2</th>\n",
       "      <td>M430112881</td>\n",
       "      <td>남성티셔츠</td>\n",
       "      <td>1</td>\n",
       "    </tr>\n",
       "    <tr>\n",
       "      <th>3</th>\n",
       "      <td>M430112881</td>\n",
       "      <td>남성티셔츠</td>\n",
       "      <td>1</td>\n",
       "    </tr>\n",
       "    <tr>\n",
       "      <th>4</th>\n",
       "      <td>M506355556</td>\n",
       "      <td>남성티셔츠</td>\n",
       "      <td>1</td>\n",
       "    </tr>\n",
       "  </tbody>\n",
       "</table>\n",
       "</div>"
      ],
      "text/plain": [
       "         cust  pd_nm  buy_ct\n",
       "0  M430112881  남성티셔츠       1\n",
       "1  M430112881  남성티셔츠       1\n",
       "2  M430112881  남성티셔츠       1\n",
       "3  M430112881  남성티셔츠       1\n",
       "4  M506355556  남성티셔츠       1"
      ]
     },
     "execution_count": 3,
     "metadata": {},
     "output_type": "execute_result"
    }
   ],
   "source": [
    "# 필요한 열만 추출\n",
    "data = data[['cust', 'pd_nm', 'buy_ct']]\n",
    "data.head()"
   ]
  },
  {
   "cell_type": "code",
   "execution_count": 4,
   "id": "aff0c2f5",
   "metadata": {},
   "outputs": [
    {
     "name": "stdout",
     "output_type": "stream",
     "text": [
      "<class 'pandas.core.frame.DataFrame'>\n",
      "Int64Index: 4381743 entries, 0 to 4381742\n",
      "Data columns (total 3 columns):\n",
      " #   Column  Dtype \n",
      "---  ------  ----- \n",
      " 0   cust    object\n",
      " 1   pd_nm   object\n",
      " 2   buy_ct  int64 \n",
      "dtypes: int64(1), object(2)\n",
      "memory usage: 133.7+ MB\n"
     ]
    }
   ],
   "source": [
    "data.info()"
   ]
  },
  {
   "cell_type": "markdown",
   "id": "4c8567e3",
   "metadata": {},
   "source": [
    "# 데이터 전처리 (정규화)"
   ]
  },
  {
   "cell_type": "code",
   "execution_count": 5,
   "id": "378b5760",
   "metadata": {},
   "outputs": [],
   "source": [
    "#정규화 함수 및 적용 \n",
    "def min_max_scaler(df):\n",
    "    df_min = df.min()\n",
    "    df_max = df.max()\n",
    "    return (df-df_min)/(df_max-df_min)\n",
    "\n",
    "data['buy_ct'] = min_max_scaler(data['buy_ct'])"
   ]
  },
  {
   "cell_type": "code",
   "execution_count": 6,
   "id": "a11903cc",
   "metadata": {},
   "outputs": [
    {
     "data": {
      "text/plain": [
       "<AxesSubplot:ylabel='Frequency'>"
      ]
     },
     "execution_count": 6,
     "metadata": {},
     "output_type": "execute_result"
    },
    {
     "data": {
      "image/png": "[encoded data removed]",
      "text/plain": [
       "<Figure size 432x288 with 1 Axes>"
      ]
     },
     "metadata": {
      "needs_background": "light"
     },
     "output_type": "display_data"
    }
   ],
   "source": [
    "(data['buy_ct']).plot.hist(bins=20)"
   ]
  },
  {
   "cell_type": "markdown",
   "id": "ea10c78f",
   "metadata": {},
   "source": [
    "# 고객, 상품별로 데이터 묶기"
   ]
  },
  {
   "cell_type": "code",
   "execution_count": 7,
   "id": "65983abe",
   "metadata": {},
   "outputs": [
    {
     "data": {
      "text/html": [
       "<div>\n",
       "<style scoped>\n",
       "    .dataframe tbody tr th:only-of-type {\n",
       "        vertical-align: middle;\n",
       "    }\n",
       "\n",
       "    .dataframe tbody tr th {\n",
       "        vertical-align: top;\n",
       "    }\n",
       "\n",
       "    .dataframe thead th {\n",
       "        text-align: right;\n",
       "    }\n",
       "</style>\n",
       "<table border=\"1\" class=\"dataframe\">\n",
       "  <thead>\n",
       "    <tr style=\"text-align: right;\">\n",
       "      <th></th>\n",
       "      <th>cust</th>\n",
       "      <th>pd_nm</th>\n",
       "      <th>buy_ct</th>\n",
       "    </tr>\n",
       "  </thead>\n",
       "  <tbody>\n",
       "    <tr>\n",
       "      <th>0</th>\n",
       "      <td>M000034966</td>\n",
       "      <td>가공조미료</td>\n",
       "      <td>0.000000</td>\n",
       "    </tr>\n",
       "    <tr>\n",
       "      <th>1</th>\n",
       "      <td>M000034966</td>\n",
       "      <td>간장</td>\n",
       "      <td>0.000000</td>\n",
       "    </tr>\n",
       "    <tr>\n",
       "      <th>2</th>\n",
       "      <td>M000034966</td>\n",
       "      <td>감자스낵</td>\n",
       "      <td>0.000000</td>\n",
       "    </tr>\n",
       "    <tr>\n",
       "      <th>3</th>\n",
       "      <td>M000034966</td>\n",
       "      <td>과일음료</td>\n",
       "      <td>0.000000</td>\n",
       "    </tr>\n",
       "    <tr>\n",
       "      <th>4</th>\n",
       "      <td>M000034966</td>\n",
       "      <td>국산맥주</td>\n",
       "      <td>0.040404</td>\n",
       "    </tr>\n",
       "  </tbody>\n",
       "</table>\n",
       "</div>"
      ],
      "text/plain": [
       "         cust  pd_nm    buy_ct\n",
       "0  M000034966  가공조미료  0.000000\n",
       "1  M000034966     간장  0.000000\n",
       "2  M000034966   감자스낵  0.000000\n",
       "3  M000034966   과일음료  0.000000\n",
       "4  M000034966   국산맥주  0.040404"
      ]
     },
     "execution_count": 7,
     "metadata": {},
     "output_type": "execute_result"
    }
   ],
   "source": [
    "data_groupby = data.groupby(['cust','pd_nm'], as_index=False)\n",
    "data_groupby = data_groupby.sum()\n",
    "data_groupby.head()"
   ]
  },
  {
   "cell_type": "code",
   "execution_count": 8,
   "id": "32c86ab8",
   "metadata": {},
   "outputs": [
    {
     "name": "stdout",
     "output_type": "stream",
     "text": [
      "shape: (1637598, 3)\n",
      "중복 데이터: 0\n"
     ]
    }
   ],
   "source": [
    "print(\"shape:\",data_groupby.shape)\n",
    "print(\"중복 데이터:\", data_groupby.duplicated().sum())"
   ]
  },
  {
   "cell_type": "code",
   "execution_count": 9,
   "id": "30f20b21",
   "metadata": {},
   "outputs": [
    {
     "name": "stdout",
     "output_type": "stream",
     "text": [
      "<class 'pandas.core.frame.DataFrame'>\n",
      "RangeIndex: 1637598 entries, 0 to 1637597\n",
      "Data columns (total 3 columns):\n",
      " #   Column  Non-Null Count    Dtype  \n",
      "---  ------  --------------    -----  \n",
      " 0   cust    1637598 non-null  object \n",
      " 1   pd_nm   1637598 non-null  object \n",
      " 2   buy_ct  1637598 non-null  float64\n",
      "dtypes: float64(1), object(2)\n",
      "memory usage: 37.5+ MB\n"
     ]
    }
   ],
   "source": [
    "data_groupby.info()"
   ]
  },
  {
   "cell_type": "code",
   "execution_count": 10,
   "id": "fc214166",
   "metadata": {},
   "outputs": [
    {
     "data": {
      "text/plain": [
       "cust      0\n",
       "pd_nm     0\n",
       "buy_ct    0\n",
       "dtype: int64"
      ]
     },
     "execution_count": 10,
     "metadata": {},
     "output_type": "execute_result"
    }
   ],
   "source": [
    "data_groupby.isnull().sum() # 결측치 확인"
   ]
  },
  {
   "cell_type": "markdown",
   "id": "0540a6c4",
   "metadata": {},
   "source": [
    "# 데이터 저장"
   ]
  },
  {
   "cell_type": "code",
   "execution_count": 11,
   "id": "b43f3e7c",
   "metadata": {},
   "outputs": [],
   "source": [
    "# 데이터를 빠르게 로드할 수 있게 피클로 저장\n",
    "data_groupby.to_pickle('/Users/yul/Desktop/LP Player/3. LP Player_데이터 및 모델 세이브 파일/Item-based_filtering_data_pickle_최종')"
   ]
  },
  {
   "cell_type": "code",
   "execution_count": null,
   "id": "493a98c3",
   "metadata": {},
   "outputs": [],
   "source": []
  }
 ],
 "metadata": {
  "kernelspec": {
   "display_name": "Python 3 (ipykernel)",
   "language": "python",
   "name": "python3"
  },
  "language_info": {
   "codemirror_mode": {
    "name": "ipython",
    "version": 3
   },
   "file_extension": ".py",
   "mimetype": "text/x-python",
   "name": "python",
   "nbconvert_exporter": "python",
   "pygments_lexer": "ipython3",
   "version": "3.9.12"
  },
  "toc": {
   "base_numbering": 1,
   "nav_menu": {},
   "number_sections": true,
   "sideBar": true,
   "skip_h1_title": false,
   "title_cell": "Table of Contents",
   "title_sidebar": "Contents",
   "toc_cell": false,
   "toc_position": {
    "height": "calc(100% - 180px)",
    "left": "10px",
    "top": "150px",
    "width": "201px"
   },
   "toc_section_display": true,
   "toc_window_display": true
  },
  "varInspector": {
   "cols": {
    "lenName": 16,
    "lenType": 16,
    "lenVar": 40
   },
   "kernels_config": {
    "python": {
     "delete_cmd_postfix": "",
     "delete_cmd_prefix": "del ",
     "library": "var_list.py",
     "varRefreshCmd": "print(var_dic_list())"
    },
    "r": {
     "delete_cmd_postfix": ") ",
     "delete_cmd_prefix": "rm(",
     "library": "var_list.r",
     "varRefreshCmd": "cat(var_dic_list()) "
    }
   },
   "types_to_exclude": [
    "module",
    "function",
    "builtin_function_or_method",
    "instance",
    "_Feature"
   ],
   "window_display": false
  }
 },
 "nbformat": 4,
 "nbformat_minor": 5
}
