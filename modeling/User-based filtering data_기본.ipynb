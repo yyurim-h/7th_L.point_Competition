{
 "cells": [
  {
   "cell_type": "markdown",
   "id": "2aced2a3",
   "metadata": {},
   "source": [
    "# 데이터 불러오기"
   ]
  },
  {
   "cell_type": "code",
   "execution_count": 1,
   "id": "b4733cf9",
   "metadata": {},
   "outputs": [],
   "source": [
    "import numpy as np \n",
    "import pandas as pd \n",
    "\n",
    "df1 = pd.read_csv(\"/Users/yul/Desktop/LP Player/3. LP Player_데이터 및 모델 세이브 파일/data_F_3040.csv\")\n",
    "np.random.seed(19670324)  # seed 값 지정"
   ]
  },
  {
   "cell_type": "code",
   "execution_count": 2,
   "id": "a424e603",
   "metadata": {},
   "outputs": [],
   "source": [
    "# 필요한 열만 추출\n",
    "df = df1[['cust', 'pd_nm', 'buy_ct']]"
   ]
  },
  {
   "cell_type": "markdown",
   "id": "49ebd107",
   "metadata": {},
   "source": [
    "# 고객, 상품별로 데이터 묶기"
   ]
  },
  {
   "cell_type": "code",
   "execution_count": 3,
   "id": "5e2769d6",
   "metadata": {},
   "outputs": [
    {
     "data": {
      "text/html": [
       "<div>\n",
       "<style scoped>\n",
       "    .dataframe tbody tr th:only-of-type {\n",
       "        vertical-align: middle;\n",
       "    }\n",
       "\n",
       "    .dataframe tbody tr th {\n",
       "        vertical-align: top;\n",
       "    }\n",
       "\n",
       "    .dataframe thead th {\n",
       "        text-align: right;\n",
       "    }\n",
       "</style>\n",
       "<table border=\"1\" class=\"dataframe\">\n",
       "  <thead>\n",
       "    <tr style=\"text-align: right;\">\n",
       "      <th></th>\n",
       "      <th>cust</th>\n",
       "      <th>pd_nm</th>\n",
       "      <th>buy_ct</th>\n",
       "    </tr>\n",
       "  </thead>\n",
       "  <tbody>\n",
       "    <tr>\n",
       "      <th>0</th>\n",
       "      <td>M000225114</td>\n",
       "      <td>가공계란</td>\n",
       "      <td>1</td>\n",
       "    </tr>\n",
       "    <tr>\n",
       "      <th>1</th>\n",
       "      <td>M000225114</td>\n",
       "      <td>가공우유</td>\n",
       "      <td>2</td>\n",
       "    </tr>\n",
       "    <tr>\n",
       "      <th>2</th>\n",
       "      <td>M000225114</td>\n",
       "      <td>과일음료</td>\n",
       "      <td>4</td>\n",
       "    </tr>\n",
       "    <tr>\n",
       "      <th>3</th>\n",
       "      <td>M000225114</td>\n",
       "      <td>과일잼</td>\n",
       "      <td>2</td>\n",
       "    </tr>\n",
       "    <tr>\n",
       "      <th>4</th>\n",
       "      <td>M000225114</td>\n",
       "      <td>과채혼합음료</td>\n",
       "      <td>1</td>\n",
       "    </tr>\n",
       "  </tbody>\n",
       "</table>\n",
       "</div>"
      ],
      "text/plain": [
       "         cust   pd_nm  buy_ct\n",
       "0  M000225114    가공계란       1\n",
       "1  M000225114    가공우유       2\n",
       "2  M000225114    과일음료       4\n",
       "3  M000225114     과일잼       2\n",
       "4  M000225114  과채혼합음료       1"
      ]
     },
     "execution_count": 3,
     "metadata": {},
     "output_type": "execute_result"
    }
   ],
   "source": [
    "df_groupby = df.groupby(['cust','pd_nm'], as_index=False)\n",
    "df_groupby = df_groupby.sum()\n",
    "df_groupby.head()"
   ]
  },
  {
   "cell_type": "code",
   "execution_count": 4,
   "id": "a0b4d3b6",
   "metadata": {},
   "outputs": [
    {
     "name": "stdout",
     "output_type": "stream",
     "text": [
      "shape: (391480, 3)\n",
      "중복 데이터: 0\n"
     ]
    }
   ],
   "source": [
    "print(\"shape:\",df_groupby.shape)\n",
    "print(\"중복 데이터:\", df_groupby.duplicated().sum())"
   ]
  },
  {
   "cell_type": "code",
   "execution_count": 5,
   "id": "4543505d",
   "metadata": {},
   "outputs": [
    {
     "name": "stdout",
     "output_type": "stream",
     "text": [
      "<class 'pandas.core.frame.DataFrame'>\n",
      "RangeIndex: 391480 entries, 0 to 391479\n",
      "Data columns (total 3 columns):\n",
      " #   Column  Non-Null Count   Dtype \n",
      "---  ------  --------------   ----- \n",
      " 0   cust    391480 non-null  object\n",
      " 1   pd_nm   391480 non-null  object\n",
      " 2   buy_ct  391480 non-null  int64 \n",
      "dtypes: int64(1), object(2)\n",
      "memory usage: 9.0+ MB\n"
     ]
    }
   ],
   "source": [
    "df_groupby.info()"
   ]
  },
  {
   "cell_type": "code",
   "execution_count": 6,
   "id": "f4aeb555",
   "metadata": {},
   "outputs": [
    {
     "data": {
      "text/plain": [
       "cust      0\n",
       "pd_nm     0\n",
       "buy_ct    0\n",
       "dtype: int64"
      ]
     },
     "execution_count": 6,
     "metadata": {},
     "output_type": "execute_result"
    }
   ],
   "source": [
    "df_groupby.isnull().sum() # 결측치 확인"
   ]
  },
  {
   "cell_type": "markdown",
   "id": "3fe6134e",
   "metadata": {},
   "source": [
    "# 데이터 저장"
   ]
  },
  {
   "cell_type": "code",
   "execution_count": 7,
   "id": "265fd22a",
   "metadata": {},
   "outputs": [],
   "source": [
    "# 데이터를 빠르게 로드할 수 있게 피클로 저장\n",
    "df_groupby.to_pickle('/Users/yul/Desktop/LP Player/3. LP Player_데이터 및 모델 세이브 파일/User-based_filtering_data_pickle_기본')"
   ]
  },
  {
   "cell_type": "code",
   "execution_count": null,
   "id": "69a0c4ad",
   "metadata": {},
   "outputs": [],
   "source": []
  }
 ],
 "metadata": {
  "kernelspec": {
   "display_name": "Python 3 (ipykernel)",
   "language": "python",
   "name": "python3"
  },
  "language_info": {
   "codemirror_mode": {
    "name": "ipython",
    "version": 3
   },
   "file_extension": ".py",
   "mimetype": "text/x-python",
   "name": "python",
   "nbconvert_exporter": "python",
   "pygments_lexer": "ipython3",
   "version": "3.9.12"
  },
  "toc": {
   "base_numbering": 1,
   "nav_menu": {},
   "number_sections": true,
   "sideBar": true,
   "skip_h1_title": false,
   "title_cell": "Table of Contents",
   "title_sidebar": "Contents",
   "toc_cell": false,
   "toc_position": {
    "height": "calc(100% - 180px)",
    "left": "10px",
    "top": "150px",
    "width": "286px"
   },
   "toc_section_display": true,
   "toc_window_display": true
  },
  "varInspector": {
   "cols": {
    "lenName": 16,
    "lenType": 16,
    "lenVar": 40
   },
   "kernels_config": {
    "python": {
     "delete_cmd_postfix": "",
     "delete_cmd_prefix": "del ",
     "library": "var_list.py",
     "varRefreshCmd": "print(var_dic_list())"
    },
    "r": {
     "delete_cmd_postfix": ") ",
     "delete_cmd_prefix": "rm(",
     "library": "var_list.r",
     "varRefreshCmd": "cat(var_dic_list()) "
    }
   },
   "types_to_exclude": [
    "module",
    "function",
    "builtin_function_or_method",
    "instance",
    "_Feature"
   ],
   "window_display": false
  }
 },
 "nbformat": 4,
 "nbformat_minor": 5
}
