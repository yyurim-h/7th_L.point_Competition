{
 "cells": [
  {
   "cell_type": "markdown",
   "id": "2aced2a3",
   "metadata": {},
   "source": [
    "# 데이터 불러오기"
   ]
  },
  {
   "cell_type": "code",
   "execution_count": 1,
   "id": "b4733cf9",
   "metadata": {},
   "outputs": [],
   "source": [
    "import numpy as np \n",
    "import pandas as pd \n",
    "\n",
    "df1 = pd.read_csv(\"/Users/yul/Desktop/LP Player/3. LP Player_데이터 및 모델 세이브 파일/03_COP_U_전처리.csv\")\n",
    "df2 = pd.read_csv('/Users/yul/Desktop/LP Player/3. LP Player_데이터 및 모델 세이브 파일/뉴스심리지수(실험적 통계)_일별자료.csv' , encoding = 'cp949')\n",
    "df3 = pd.read_csv('/Users/yul/Desktop/LP Player/3. LP Player_데이터 및 모델 세이브 파일/datatrend.csv' ,encoding = 'cp949')\n",
    "np.random.seed(19670324)  # seed 값 지정"
   ]
  },
  {
   "cell_type": "code",
   "execution_count": 2,
   "id": "7032271d",
   "metadata": {},
   "outputs": [],
   "source": [
    "# 열 이름 바꾸기\n",
    "df2.rename(columns = {'날짜':'de_dt'},inplace=True)\n",
    "df3.rename(columns = {'일':'de_dt'},inplace=True)"
   ]
  },
  {
   "cell_type": "markdown",
   "id": "d810a7c8",
   "metadata": {},
   "source": [
    "# 데이터 병합"
   ]
  },
  {
   "cell_type": "code",
   "execution_count": 3,
   "id": "8e167d05",
   "metadata": {},
   "outputs": [],
   "source": [
    "df = df1.merge(df2 , on = 'de_dt', how = 'inner')\n",
    "df = df.merge(df3 , on = 'de_dt', how = 'inner')"
   ]
  },
  {
   "cell_type": "code",
   "execution_count": 4,
   "id": "cc4bb7d9",
   "metadata": {},
   "outputs": [
    {
     "name": "stdout",
     "output_type": "stream",
     "text": [
      "<class 'pandas.core.frame.DataFrame'>\n",
      "Int64Index: 248247 entries, 0 to 248246\n",
      "Data columns (total 18 columns):\n",
      " #   Column       Non-Null Count   Dtype  \n",
      "---  ------       --------------   -----  \n",
      " 0   cust         248247 non-null  object \n",
      " 1   ma_fem_dv    248247 non-null  object \n",
      " 2   ages         248247 non-null  object \n",
      " 3   zon_hlv      248247 non-null  object \n",
      " 4   rct_no       248247 non-null  object \n",
      " 5   cop_c        248247 non-null  object \n",
      " 6   br_c         248247 non-null  object \n",
      " 7   chnl_dv      248247 non-null  int64  \n",
      " 8   de_dt        248247 non-null  object \n",
      " 9   vst_dt       248247 non-null  object \n",
      " 10  de_hr        248247 non-null  int64  \n",
      " 11  buy_am       248247 non-null  int64  \n",
      " 12  de_dt_month  248247 non-null  int64  \n",
      " 13  de_day       248247 non-null  int64  \n",
      " 14  뉴스심리지수       248247 non-null  float64\n",
      " 15  서울           248247 non-null  int64  \n",
      " 16  경기           248247 non-null  int64  \n",
      " 17  총합           248247 non-null  int64  \n",
      "dtypes: float64(1), int64(8), object(9)\n",
      "memory usage: 36.0+ MB\n"
     ]
    }
   ],
   "source": [
    "df.info() # info를 통해 병합 과정 중 누락된 데이터가 있는지 확인"
   ]
  },
  {
   "cell_type": "markdown",
   "id": "f2f28685",
   "metadata": {},
   "source": [
    "# 상관분석을 통해서 외부 변수 활용 방안 모색"
   ]
  },
  {
   "cell_type": "code",
   "execution_count": 5,
   "id": "7f39c770",
   "metadata": {
    "scrolled": true
   },
   "outputs": [
    {
     "data": {
      "text/html": [
       "<div>\n",
       "<style scoped>\n",
       "    .dataframe tbody tr th:only-of-type {\n",
       "        vertical-align: middle;\n",
       "    }\n",
       "\n",
       "    .dataframe tbody tr th {\n",
       "        vertical-align: top;\n",
       "    }\n",
       "\n",
       "    .dataframe thead th {\n",
       "        text-align: right;\n",
       "    }\n",
       "</style>\n",
       "<table border=\"1\" class=\"dataframe\">\n",
       "  <thead>\n",
       "    <tr style=\"text-align: right;\">\n",
       "      <th></th>\n",
       "      <th>chnl_dv</th>\n",
       "      <th>de_hr</th>\n",
       "      <th>buy_am</th>\n",
       "      <th>de_dt_month</th>\n",
       "      <th>de_day</th>\n",
       "      <th>뉴스심리지수</th>\n",
       "      <th>서울</th>\n",
       "      <th>경기</th>\n",
       "      <th>총합</th>\n",
       "    </tr>\n",
       "  </thead>\n",
       "  <tbody>\n",
       "    <tr>\n",
       "      <th>chnl_dv</th>\n",
       "      <td>1.000000</td>\n",
       "      <td>-0.038266</td>\n",
       "      <td>-0.012845</td>\n",
       "      <td>0.081742</td>\n",
       "      <td>0.010245</td>\n",
       "      <td>0.006468</td>\n",
       "      <td>-0.028636</td>\n",
       "      <td>-0.024600</td>\n",
       "      <td>-0.026762</td>\n",
       "    </tr>\n",
       "    <tr>\n",
       "      <th>de_hr</th>\n",
       "      <td>-0.038266</td>\n",
       "      <td>1.000000</td>\n",
       "      <td>-0.007115</td>\n",
       "      <td>-0.000936</td>\n",
       "      <td>-0.008529</td>\n",
       "      <td>0.003702</td>\n",
       "      <td>0.015218</td>\n",
       "      <td>0.014951</td>\n",
       "      <td>0.015199</td>\n",
       "    </tr>\n",
       "    <tr>\n",
       "      <th>buy_am</th>\n",
       "      <td>-0.012845</td>\n",
       "      <td>-0.007115</td>\n",
       "      <td>1.000000</td>\n",
       "      <td>0.003539</td>\n",
       "      <td>0.009233</td>\n",
       "      <td>-0.000408</td>\n",
       "      <td>-0.003011</td>\n",
       "      <td>-0.002563</td>\n",
       "      <td>-0.002802</td>\n",
       "    </tr>\n",
       "    <tr>\n",
       "      <th>de_dt_month</th>\n",
       "      <td>0.081742</td>\n",
       "      <td>-0.000936</td>\n",
       "      <td>0.003539</td>\n",
       "      <td>1.000000</td>\n",
       "      <td>-0.002037</td>\n",
       "      <td>-0.210216</td>\n",
       "      <td>-0.125819</td>\n",
       "      <td>-0.055353</td>\n",
       "      <td>-0.090158</td>\n",
       "    </tr>\n",
       "    <tr>\n",
       "      <th>de_day</th>\n",
       "      <td>0.010245</td>\n",
       "      <td>-0.008529</td>\n",
       "      <td>0.009233</td>\n",
       "      <td>-0.002037</td>\n",
       "      <td>1.000000</td>\n",
       "      <td>0.002877</td>\n",
       "      <td>-0.243065</td>\n",
       "      <td>-0.234605</td>\n",
       "      <td>-0.240576</td>\n",
       "    </tr>\n",
       "    <tr>\n",
       "      <th>뉴스심리지수</th>\n",
       "      <td>0.006468</td>\n",
       "      <td>0.003702</td>\n",
       "      <td>-0.000408</td>\n",
       "      <td>-0.210216</td>\n",
       "      <td>0.002877</td>\n",
       "      <td>1.000000</td>\n",
       "      <td>0.076827</td>\n",
       "      <td>0.036023</td>\n",
       "      <td>0.056208</td>\n",
       "    </tr>\n",
       "    <tr>\n",
       "      <th>서울</th>\n",
       "      <td>-0.028636</td>\n",
       "      <td>0.015218</td>\n",
       "      <td>-0.003011</td>\n",
       "      <td>-0.125819</td>\n",
       "      <td>-0.243065</td>\n",
       "      <td>0.076827</td>\n",
       "      <td>1.000000</td>\n",
       "      <td>0.968888</td>\n",
       "      <td>0.991680</td>\n",
       "    </tr>\n",
       "    <tr>\n",
       "      <th>경기</th>\n",
       "      <td>-0.024600</td>\n",
       "      <td>0.014951</td>\n",
       "      <td>-0.002563</td>\n",
       "      <td>-0.055353</td>\n",
       "      <td>-0.234605</td>\n",
       "      <td>0.036023</td>\n",
       "      <td>0.968888</td>\n",
       "      <td>1.000000</td>\n",
       "      <td>0.992687</td>\n",
       "    </tr>\n",
       "    <tr>\n",
       "      <th>총합</th>\n",
       "      <td>-0.026762</td>\n",
       "      <td>0.015199</td>\n",
       "      <td>-0.002802</td>\n",
       "      <td>-0.090158</td>\n",
       "      <td>-0.240576</td>\n",
       "      <td>0.056208</td>\n",
       "      <td>0.991680</td>\n",
       "      <td>0.992687</td>\n",
       "      <td>1.000000</td>\n",
       "    </tr>\n",
       "  </tbody>\n",
       "</table>\n",
       "</div>"
      ],
      "text/plain": [
       "              chnl_dv     de_hr    buy_am  de_dt_month    de_day    뉴스심리지수  \\\n",
       "chnl_dv      1.000000 -0.038266 -0.012845     0.081742  0.010245  0.006468   \n",
       "de_hr       -0.038266  1.000000 -0.007115    -0.000936 -0.008529  0.003702   \n",
       "buy_am      -0.012845 -0.007115  1.000000     0.003539  0.009233 -0.000408   \n",
       "de_dt_month  0.081742 -0.000936  0.003539     1.000000 -0.002037 -0.210216   \n",
       "de_day       0.010245 -0.008529  0.009233    -0.002037  1.000000  0.002877   \n",
       "뉴스심리지수       0.006468  0.003702 -0.000408    -0.210216  0.002877  1.000000   \n",
       "서울          -0.028636  0.015218 -0.003011    -0.125819 -0.243065  0.076827   \n",
       "경기          -0.024600  0.014951 -0.002563    -0.055353 -0.234605  0.036023   \n",
       "총합          -0.026762  0.015199 -0.002802    -0.090158 -0.240576  0.056208   \n",
       "\n",
       "                   서울        경기        총합  \n",
       "chnl_dv     -0.028636 -0.024600 -0.026762  \n",
       "de_hr        0.015218  0.014951  0.015199  \n",
       "buy_am      -0.003011 -0.002563 -0.002802  \n",
       "de_dt_month -0.125819 -0.055353 -0.090158  \n",
       "de_day      -0.243065 -0.234605 -0.240576  \n",
       "뉴스심리지수       0.076827  0.036023  0.056208  \n",
       "서울           1.000000  0.968888  0.991680  \n",
       "경기           0.968888  1.000000  0.992687  \n",
       "총합           0.991680  0.992687  1.000000  "
      ]
     },
     "execution_count": 5,
     "metadata": {},
     "output_type": "execute_result"
    }
   ],
   "source": [
    "df.corr()"
   ]
  },
  {
   "cell_type": "code",
   "execution_count": 6,
   "id": "a424e603",
   "metadata": {},
   "outputs": [],
   "source": [
    "# 필요한 열만 추출\n",
    "df = df[['cust', 'br_c', 'buy_am','de_dt_month','뉴스심리지수']]"
   ]
  },
  {
   "cell_type": "code",
   "execution_count": 7,
   "id": "4418c9bb",
   "metadata": {},
   "outputs": [],
   "source": [
    "import matplotlib.pyplot as plt\n",
    "import seaborn as sns\n",
    "from matplotlib import rc\n",
    "\n",
    "rc('font', family='AppleGothic')\n",
    "plt.rcParams['axes.unicode_minus'] = False"
   ]
  },
  {
   "cell_type": "code",
   "execution_count": 8,
   "id": "2b6e9974",
   "metadata": {},
   "outputs": [
    {
     "data": {
      "text/plain": [
       "<AxesSubplot:>"
      ]
     },
     "execution_count": 8,
     "metadata": {},
     "output_type": "execute_result"
    },
    {
     "data": {
      "image/png": "[encoded data removed]",
      "text/plain": [
       "<Figure size 432x288 with 2 Axes>"
      ]
     },
     "metadata": {
      "needs_background": "light"
     },
     "output_type": "display_data"
    }
   ],
   "source": [
    "# 상관분석 히트맵\n",
    "corr=df.corr()\n",
    "sns.heatmap(corr, annot=True)"
   ]
  },
  {
   "cell_type": "code",
   "execution_count": 9,
   "id": "c4beef1e",
   "metadata": {},
   "outputs": [
    {
     "data": {
      "image/png": "[encoded data removed]",
      "text/plain": [
       "<Figure size 432x288 with 1 Axes>"
      ]
     },
     "metadata": {
      "needs_background": "light"
     },
     "output_type": "display_data"
    }
   ],
   "source": [
    "fig, ax = plt.subplots()\n",
    "ax.boxplot([df['buy_am'], df['de_dt_month'], df['뉴스심리지수']])\n",
    "plt.title('Multiple box plots of tips on one Axes')\n",
    "plt.xticks([1, 2, 3],\n",
    "           ['buy_am', 'de_dt_month', '뉴스심리지수'])\n",
    "plt.show()"
   ]
  },
  {
   "cell_type": "markdown",
   "id": "3877eb03",
   "metadata": {},
   "source": [
    "# 데이터 전처리 (로그화, 정규화)"
   ]
  },
  {
   "cell_type": "code",
   "execution_count": 10,
   "id": "b3ca96b8",
   "metadata": {},
   "outputs": [],
   "source": [
    "# buy_am 값은 이상치가 너무 크고 최솟값과 최댓값 차이도 너무 크기 때문에 로그화를 하고 정규화 진행\n",
    "df['buy_am'] = np.log(df['buy_am'])"
   ]
  },
  {
   "cell_type": "code",
   "execution_count": 11,
   "id": "9776a243",
   "metadata": {},
   "outputs": [],
   "source": [
    "#정규화 함수 및 적용 \n",
    "def min_max_scaler(df):\n",
    "    df_min = df.min()\n",
    "    df_max = df.max()\n",
    "    return (df-df_min)/(df_max-df_min)"
   ]
  },
  {
   "cell_type": "code",
   "execution_count": 12,
   "id": "057fd67a",
   "metadata": {
    "scrolled": true
   },
   "outputs": [
    {
     "data": {
      "text/html": [
       "<div>\n",
       "<style scoped>\n",
       "    .dataframe tbody tr th:only-of-type {\n",
       "        vertical-align: middle;\n",
       "    }\n",
       "\n",
       "    .dataframe tbody tr th {\n",
       "        vertical-align: top;\n",
       "    }\n",
       "\n",
       "    .dataframe thead th {\n",
       "        text-align: right;\n",
       "    }\n",
       "</style>\n",
       "<table border=\"1\" class=\"dataframe\">\n",
       "  <thead>\n",
       "    <tr style=\"text-align: right;\">\n",
       "      <th></th>\n",
       "      <th>cust</th>\n",
       "      <th>br_c</th>\n",
       "      <th>buy_am</th>\n",
       "      <th>de_dt_month</th>\n",
       "      <th>뉴스심리지수</th>\n",
       "    </tr>\n",
       "  </thead>\n",
       "  <tbody>\n",
       "    <tr>\n",
       "      <th>0</th>\n",
       "      <td>M000034966</td>\n",
       "      <td>D011011</td>\n",
       "      <td>0.457713</td>\n",
       "      <td>0.818182</td>\n",
       "      <td>0.60429</td>\n",
       "    </tr>\n",
       "    <tr>\n",
       "      <th>1</th>\n",
       "      <td>M001248380</td>\n",
       "      <td>D010153</td>\n",
       "      <td>0.518997</td>\n",
       "      <td>0.818182</td>\n",
       "      <td>0.60429</td>\n",
       "    </tr>\n",
       "    <tr>\n",
       "      <th>2</th>\n",
       "      <td>M001694463</td>\n",
       "      <td>D020231</td>\n",
       "      <td>0.506996</td>\n",
       "      <td>0.818182</td>\n",
       "      <td>0.60429</td>\n",
       "    </tr>\n",
       "    <tr>\n",
       "      <th>3</th>\n",
       "      <td>M001694463</td>\n",
       "      <td>D020231</td>\n",
       "      <td>0.457713</td>\n",
       "      <td>0.818182</td>\n",
       "      <td>0.60429</td>\n",
       "    </tr>\n",
       "    <tr>\n",
       "      <th>4</th>\n",
       "      <td>M001697471</td>\n",
       "      <td>C010011</td>\n",
       "      <td>0.528461</td>\n",
       "      <td>0.818182</td>\n",
       "      <td>0.60429</td>\n",
       "    </tr>\n",
       "  </tbody>\n",
       "</table>\n",
       "</div>"
      ],
      "text/plain": [
       "         cust     br_c    buy_am  de_dt_month   뉴스심리지수\n",
       "0  M000034966  D011011  0.457713     0.818182  0.60429\n",
       "1  M001248380  D010153  0.518997     0.818182  0.60429\n",
       "2  M001694463  D020231  0.506996     0.818182  0.60429\n",
       "3  M001694463  D020231  0.457713     0.818182  0.60429\n",
       "4  M001697471  C010011  0.528461     0.818182  0.60429"
      ]
     },
     "execution_count": 12,
     "metadata": {},
     "output_type": "execute_result"
    }
   ],
   "source": [
    "df['buy_am'] = min_max_scaler(df['buy_am'])\n",
    "df['de_dt_month'] = min_max_scaler(df['de_dt_month'])\n",
    "df['뉴스심리지수'] = min_max_scaler(df['뉴스심리지수'])\n",
    "df.head()"
   ]
  },
  {
   "cell_type": "code",
   "execution_count": 13,
   "id": "ee1beb1a",
   "metadata": {},
   "outputs": [
    {
     "data": {
      "image/png": "[encoded data removed]",
      "text/plain": [
       "<Figure size 432x288 with 1 Axes>"
      ]
     },
     "metadata": {
      "needs_background": "light"
     },
     "output_type": "display_data"
    }
   ],
   "source": [
    "fig, ax = plt.subplots()\n",
    "ax.boxplot([df['buy_am'], df['de_dt_month'], df['뉴스심리지수']])\n",
    "plt.title('Multiple box plots of tips on one Axes')\n",
    "plt.xticks([1, 2, 3],\n",
    "           ['buy_am', 'de_dt_month', '뉴스심리지수'])\n",
    "plt.show()"
   ]
  },
  {
   "cell_type": "markdown",
   "id": "bb74d52d",
   "metadata": {},
   "source": [
    "# 파생변수 만들기"
   ]
  },
  {
   "cell_type": "code",
   "execution_count": 14,
   "id": "300affee",
   "metadata": {},
   "outputs": [
    {
     "data": {
      "text/html": [
       "<div>\n",
       "<style scoped>\n",
       "    .dataframe tbody tr th:only-of-type {\n",
       "        vertical-align: middle;\n",
       "    }\n",
       "\n",
       "    .dataframe tbody tr th {\n",
       "        vertical-align: top;\n",
       "    }\n",
       "\n",
       "    .dataframe thead th {\n",
       "        text-align: right;\n",
       "    }\n",
       "</style>\n",
       "<table border=\"1\" class=\"dataframe\">\n",
       "  <thead>\n",
       "    <tr style=\"text-align: right;\">\n",
       "      <th></th>\n",
       "      <th>cust</th>\n",
       "      <th>br_c</th>\n",
       "      <th>buy_am</th>\n",
       "      <th>de_dt_month</th>\n",
       "      <th>뉴스심리지수</th>\n",
       "      <th>values</th>\n",
       "    </tr>\n",
       "  </thead>\n",
       "  <tbody>\n",
       "    <tr>\n",
       "      <th>0</th>\n",
       "      <td>M000034966</td>\n",
       "      <td>D011011</td>\n",
       "      <td>0.457713</td>\n",
       "      <td>0.818182</td>\n",
       "      <td>0.60429</td>\n",
       "      <td>0.666682</td>\n",
       "    </tr>\n",
       "    <tr>\n",
       "      <th>1</th>\n",
       "      <td>M001248380</td>\n",
       "      <td>D010153</td>\n",
       "      <td>0.518997</td>\n",
       "      <td>0.818182</td>\n",
       "      <td>0.60429</td>\n",
       "      <td>0.696554</td>\n",
       "    </tr>\n",
       "    <tr>\n",
       "      <th>2</th>\n",
       "      <td>M001694463</td>\n",
       "      <td>D020231</td>\n",
       "      <td>0.506996</td>\n",
       "      <td>0.818182</td>\n",
       "      <td>0.60429</td>\n",
       "      <td>0.690704</td>\n",
       "    </tr>\n",
       "    <tr>\n",
       "      <th>3</th>\n",
       "      <td>M001694463</td>\n",
       "      <td>D020231</td>\n",
       "      <td>0.457713</td>\n",
       "      <td>0.818182</td>\n",
       "      <td>0.60429</td>\n",
       "      <td>0.666682</td>\n",
       "    </tr>\n",
       "    <tr>\n",
       "      <th>4</th>\n",
       "      <td>M001697471</td>\n",
       "      <td>C010011</td>\n",
       "      <td>0.528461</td>\n",
       "      <td>0.818182</td>\n",
       "      <td>0.60429</td>\n",
       "      <td>0.701167</td>\n",
       "    </tr>\n",
       "  </tbody>\n",
       "</table>\n",
       "</div>"
      ],
      "text/plain": [
       "         cust     br_c    buy_am  de_dt_month   뉴스심리지수    values\n",
       "0  M000034966  D011011  0.457713     0.818182  0.60429  0.666682\n",
       "1  M001248380  D010153  0.518997     0.818182  0.60429  0.696554\n",
       "2  M001694463  D020231  0.506996     0.818182  0.60429  0.690704\n",
       "3  M001694463  D020231  0.457713     0.818182  0.60429  0.666682\n",
       "4  M001697471  C010011  0.528461     0.818182  0.60429  0.701167"
      ]
     },
     "execution_count": 14,
     "metadata": {},
     "output_type": "execute_result"
    }
   ],
   "source": [
    "df['values'] = df['buy_am'] + df['de_dt_month'] + df['뉴스심리지수']\n",
    "df['values'] = min_max_scaler(df['values'])\n",
    "df.head()"
   ]
  },
  {
   "cell_type": "code",
   "execution_count": 15,
   "id": "15e22ea0",
   "metadata": {},
   "outputs": [
    {
     "data": {
      "text/plain": [
       "<AxesSubplot:ylabel='Frequency'>"
      ]
     },
     "execution_count": 15,
     "metadata": {},
     "output_type": "execute_result"
    },
    {
     "data": {
      "image/png": "[encoded data removed]",
      "text/plain": [
       "<Figure size 432x288 with 1 Axes>"
      ]
     },
     "metadata": {
      "needs_background": "light"
     },
     "output_type": "display_data"
    }
   ],
   "source": [
    "(df['values']).plot.hist(bins=20) # 그림을 그려서 정규화가 잘 되었는지 확인"
   ]
  },
  {
   "cell_type": "markdown",
   "id": "49ebd107",
   "metadata": {},
   "source": [
    "# 고객, 상품별로 데이터 묶기"
   ]
  },
  {
   "cell_type": "code",
   "execution_count": 16,
   "id": "5e2769d6",
   "metadata": {},
   "outputs": [
    {
     "data": {
      "text/html": [
       "<div>\n",
       "<style scoped>\n",
       "    .dataframe tbody tr th:only-of-type {\n",
       "        vertical-align: middle;\n",
       "    }\n",
       "\n",
       "    .dataframe tbody tr th {\n",
       "        vertical-align: top;\n",
       "    }\n",
       "\n",
       "    .dataframe thead th {\n",
       "        text-align: right;\n",
       "    }\n",
       "</style>\n",
       "<table border=\"1\" class=\"dataframe\">\n",
       "  <thead>\n",
       "    <tr style=\"text-align: right;\">\n",
       "      <th></th>\n",
       "      <th>cust</th>\n",
       "      <th>br_c</th>\n",
       "      <th>buy_am</th>\n",
       "      <th>de_dt_month</th>\n",
       "      <th>뉴스심리지수</th>\n",
       "      <th>values</th>\n",
       "    </tr>\n",
       "  </thead>\n",
       "  <tbody>\n",
       "    <tr>\n",
       "      <th>0</th>\n",
       "      <td>M000034966</td>\n",
       "      <td>D011011</td>\n",
       "      <td>0.457713</td>\n",
       "      <td>0.818182</td>\n",
       "      <td>0.604290</td>\n",
       "      <td>0.666682</td>\n",
       "    </tr>\n",
       "    <tr>\n",
       "      <th>1</th>\n",
       "      <td>M000059535</td>\n",
       "      <td>C010085</td>\n",
       "      <td>0.594310</td>\n",
       "      <td>0.181818</td>\n",
       "      <td>0.469692</td>\n",
       "      <td>0.357470</td>\n",
       "    </tr>\n",
       "    <tr>\n",
       "      <th>2</th>\n",
       "      <td>M000136117</td>\n",
       "      <td>D010062</td>\n",
       "      <td>7.487032</td>\n",
       "      <td>8.090909</td>\n",
       "      <td>7.066832</td>\n",
       "      <td>7.540852</td>\n",
       "    </tr>\n",
       "    <tr>\n",
       "      <th>3</th>\n",
       "      <td>M000136117</td>\n",
       "      <td>D011059</td>\n",
       "      <td>0.532648</td>\n",
       "      <td>0.727273</td>\n",
       "      <td>0.161952</td>\n",
       "      <td>0.443284</td>\n",
       "    </tr>\n",
       "    <tr>\n",
       "      <th>4</th>\n",
       "      <td>M000225114</td>\n",
       "      <td>C010011</td>\n",
       "      <td>0.515111</td>\n",
       "      <td>0.727273</td>\n",
       "      <td>0.476220</td>\n",
       "      <td>0.587922</td>\n",
       "    </tr>\n",
       "  </tbody>\n",
       "</table>\n",
       "</div>"
      ],
      "text/plain": [
       "         cust     br_c    buy_am  de_dt_month    뉴스심리지수    values\n",
       "0  M000034966  D011011  0.457713     0.818182  0.604290  0.666682\n",
       "1  M000059535  C010085  0.594310     0.181818  0.469692  0.357470\n",
       "2  M000136117  D010062  7.487032     8.090909  7.066832  7.540852\n",
       "3  M000136117  D011059  0.532648     0.727273  0.161952  0.443284\n",
       "4  M000225114  C010011  0.515111     0.727273  0.476220  0.587922"
      ]
     },
     "execution_count": 16,
     "metadata": {},
     "output_type": "execute_result"
    }
   ],
   "source": [
    "df_groupby = df.groupby(['cust','br_c'], as_index=False)\n",
    "df_groupby = df_groupby.sum()\n",
    "df_groupby.head()"
   ]
  },
  {
   "cell_type": "code",
   "execution_count": 17,
   "id": "a0b4d3b6",
   "metadata": {},
   "outputs": [
    {
     "name": "stdout",
     "output_type": "stream",
     "text": [
      "shape: (74897, 6)\n",
      "중복 데이터: 0\n"
     ]
    }
   ],
   "source": [
    "print(\"shape:\",df_groupby.shape)\n",
    "print(\"중복 데이터:\", df_groupby.duplicated().sum())"
   ]
  },
  {
   "cell_type": "code",
   "execution_count": 18,
   "id": "4543505d",
   "metadata": {},
   "outputs": [
    {
     "name": "stdout",
     "output_type": "stream",
     "text": [
      "<class 'pandas.core.frame.DataFrame'>\n",
      "RangeIndex: 74897 entries, 0 to 74896\n",
      "Data columns (total 6 columns):\n",
      " #   Column       Non-Null Count  Dtype  \n",
      "---  ------       --------------  -----  \n",
      " 0   cust         74897 non-null  object \n",
      " 1   br_c         74897 non-null  object \n",
      " 2   buy_am       74897 non-null  float64\n",
      " 3   de_dt_month  74897 non-null  float64\n",
      " 4   뉴스심리지수       74897 non-null  float64\n",
      " 5   values       74897 non-null  float64\n",
      "dtypes: float64(4), object(2)\n",
      "memory usage: 3.4+ MB\n"
     ]
    }
   ],
   "source": [
    "df_groupby.info()"
   ]
  },
  {
   "cell_type": "code",
   "execution_count": 19,
   "id": "f4aeb555",
   "metadata": {},
   "outputs": [
    {
     "data": {
      "text/plain": [
       "cust           0\n",
       "br_c           0\n",
       "buy_am         0\n",
       "de_dt_month    0\n",
       "뉴스심리지수         0\n",
       "values         0\n",
       "dtype: int64"
      ]
     },
     "execution_count": 19,
     "metadata": {},
     "output_type": "execute_result"
    }
   ],
   "source": [
    "df_groupby.isnull().sum() # 결측치 확인"
   ]
  },
  {
   "cell_type": "markdown",
   "id": "3fe6134e",
   "metadata": {},
   "source": [
    "# 데이터 저장"
   ]
  },
  {
   "cell_type": "code",
   "execution_count": 20,
   "id": "265fd22a",
   "metadata": {},
   "outputs": [],
   "source": [
    "# 데이터를 빠르게 로드할 수 있게 피클로 저장\n",
    "df_groupby.to_pickle('/Users/yul/Desktop/LP Player/3. LP Player_데이터 및 모델 세이브 파일/COP_data_pickle')"
   ]
  },
  {
   "cell_type": "code",
   "execution_count": null,
   "id": "69a0c4ad",
   "metadata": {},
   "outputs": [],
   "source": []
  }
 ],
 "metadata": {
  "kernelspec": {
   "display_name": "Python 3 (ipykernel)",
   "language": "python",
   "name": "python3"
  },
  "language_info": {
   "codemirror_mode": {
    "name": "ipython",
    "version": 3
   },
   "file_extension": ".py",
   "mimetype": "text/x-python",
   "name": "python",
   "nbconvert_exporter": "python",
   "pygments_lexer": "ipython3",
   "version": "3.9.12"
  },
  "toc": {
   "base_numbering": 1,
   "nav_menu": {},
   "number_sections": true,
   "sideBar": true,
   "skip_h1_title": false,
   "title_cell": "Table of Contents",
   "title_sidebar": "Contents",
   "toc_cell": false,
   "toc_position": {
    "height": "calc(100% - 180px)",
    "left": "10px",
    "top": "150px",
    "width": "165px"
   },
   "toc_section_display": true,
   "toc_window_display": true
  },
  "varInspector": {
   "cols": {
    "lenName": 16,
    "lenType": 16,
    "lenVar": 40
   },
   "kernels_config": {
    "python": {
     "delete_cmd_postfix": "",
     "delete_cmd_prefix": "del ",
     "library": "var_list.py",
     "varRefreshCmd": "print(var_dic_list())"
    },
    "r": {
     "delete_cmd_postfix": ") ",
     "delete_cmd_prefix": "rm(",
     "library": "var_list.r",
     "varRefreshCmd": "cat(var_dic_list()) "
    }
   },
   "types_to_exclude": [
    "module",
    "function",
    "builtin_function_or_method",
    "instance",
    "_Feature"
   ],
   "window_display": false
  }
 },
 "nbformat": 4,
 "nbformat_minor": 5
}
